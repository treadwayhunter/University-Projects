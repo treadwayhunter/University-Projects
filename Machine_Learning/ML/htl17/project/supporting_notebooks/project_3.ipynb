{
 "cells": [
  {
   "cell_type": "code",
   "execution_count": 1,
   "metadata": {},
   "outputs": [
    {
     "name": "stderr",
     "output_type": "stream",
     "text": [
      "c:\\Users\\Hunter\\anaconda3\\Lib\\site-packages\\pandas\\core\\arrays\\masked.py:60: UserWarning: Pandas requires version '1.3.6' or newer of 'bottleneck' (version '1.3.5' currently installed).\n",
      "  from pandas.core import (\n"
     ]
    }
   ],
   "source": [
    "import numpy as np \n",
    "import pandas as pd\n",
    "from sklearn.model_selection import train_test_split\n",
    "from sklearn.tree import DecisionTreeClassifier\n",
    "from matplotlib import pyplot as plt\n",
    "import seaborn as sns\n",
    "\n"
   ]
  },
  {
   "cell_type": "code",
   "execution_count": 2,
   "metadata": {},
   "outputs": [
    {
     "data": {
      "text/html": [
       "<div>\n",
       "<style scoped>\n",
       "    .dataframe tbody tr th:only-of-type {\n",
       "        vertical-align: middle;\n",
       "    }\n",
       "\n",
       "    .dataframe tbody tr th {\n",
       "        vertical-align: top;\n",
       "    }\n",
       "\n",
       "    .dataframe thead th {\n",
       "        text-align: right;\n",
       "    }\n",
       "</style>\n",
       "<table border=\"1\" class=\"dataframe\">\n",
       "  <thead>\n",
       "    <tr style=\"text-align: right;\">\n",
       "      <th></th>\n",
       "      <th>Flow Duration</th>\n",
       "      <th>Total Fwd Packets</th>\n",
       "      <th>Total Backward Packets</th>\n",
       "      <th>Total Length of Fwd Packets</th>\n",
       "      <th>Total Length of Bwd Packets</th>\n",
       "      <th>Fwd Packet Length Max</th>\n",
       "      <th>Fwd Packet Length Min</th>\n",
       "      <th>Fwd Packet Length Mean</th>\n",
       "      <th>Fwd Packet Length Std</th>\n",
       "      <th>Bwd Packet Length Max</th>\n",
       "      <th>...</th>\n",
       "      <th>min_seg_size_forward</th>\n",
       "      <th>Active Mean</th>\n",
       "      <th>Active Std</th>\n",
       "      <th>Active Max</th>\n",
       "      <th>Active Min</th>\n",
       "      <th>Idle Mean</th>\n",
       "      <th>Idle Std</th>\n",
       "      <th>Idle Max</th>\n",
       "      <th>Idle Min</th>\n",
       "      <th>Label</th>\n",
       "    </tr>\n",
       "  </thead>\n",
       "  <tbody>\n",
       "    <tr>\n",
       "      <th>0</th>\n",
       "      <td>3</td>\n",
       "      <td>2</td>\n",
       "      <td>0</td>\n",
       "      <td>12</td>\n",
       "      <td>0</td>\n",
       "      <td>6</td>\n",
       "      <td>6</td>\n",
       "      <td>6.0</td>\n",
       "      <td>0.0</td>\n",
       "      <td>0</td>\n",
       "      <td>...</td>\n",
       "      <td>20</td>\n",
       "      <td>0.0</td>\n",
       "      <td>0.0</td>\n",
       "      <td>0</td>\n",
       "      <td>0</td>\n",
       "      <td>0.0</td>\n",
       "      <td>0.0</td>\n",
       "      <td>0</td>\n",
       "      <td>0</td>\n",
       "      <td>BENIGN</td>\n",
       "    </tr>\n",
       "    <tr>\n",
       "      <th>1</th>\n",
       "      <td>109</td>\n",
       "      <td>1</td>\n",
       "      <td>1</td>\n",
       "      <td>6</td>\n",
       "      <td>6</td>\n",
       "      <td>6</td>\n",
       "      <td>6</td>\n",
       "      <td>6.0</td>\n",
       "      <td>0.0</td>\n",
       "      <td>6</td>\n",
       "      <td>...</td>\n",
       "      <td>20</td>\n",
       "      <td>0.0</td>\n",
       "      <td>0.0</td>\n",
       "      <td>0</td>\n",
       "      <td>0</td>\n",
       "      <td>0.0</td>\n",
       "      <td>0.0</td>\n",
       "      <td>0</td>\n",
       "      <td>0</td>\n",
       "      <td>BENIGN</td>\n",
       "    </tr>\n",
       "    <tr>\n",
       "      <th>2</th>\n",
       "      <td>52</td>\n",
       "      <td>1</td>\n",
       "      <td>1</td>\n",
       "      <td>6</td>\n",
       "      <td>6</td>\n",
       "      <td>6</td>\n",
       "      <td>6</td>\n",
       "      <td>6.0</td>\n",
       "      <td>0.0</td>\n",
       "      <td>6</td>\n",
       "      <td>...</td>\n",
       "      <td>20</td>\n",
       "      <td>0.0</td>\n",
       "      <td>0.0</td>\n",
       "      <td>0</td>\n",
       "      <td>0</td>\n",
       "      <td>0.0</td>\n",
       "      <td>0.0</td>\n",
       "      <td>0</td>\n",
       "      <td>0</td>\n",
       "      <td>BENIGN</td>\n",
       "    </tr>\n",
       "    <tr>\n",
       "      <th>3</th>\n",
       "      <td>34</td>\n",
       "      <td>1</td>\n",
       "      <td>1</td>\n",
       "      <td>6</td>\n",
       "      <td>6</td>\n",
       "      <td>6</td>\n",
       "      <td>6</td>\n",
       "      <td>6.0</td>\n",
       "      <td>0.0</td>\n",
       "      <td>6</td>\n",
       "      <td>...</td>\n",
       "      <td>20</td>\n",
       "      <td>0.0</td>\n",
       "      <td>0.0</td>\n",
       "      <td>0</td>\n",
       "      <td>0</td>\n",
       "      <td>0.0</td>\n",
       "      <td>0.0</td>\n",
       "      <td>0</td>\n",
       "      <td>0</td>\n",
       "      <td>BENIGN</td>\n",
       "    </tr>\n",
       "    <tr>\n",
       "      <th>4</th>\n",
       "      <td>3</td>\n",
       "      <td>2</td>\n",
       "      <td>0</td>\n",
       "      <td>12</td>\n",
       "      <td>0</td>\n",
       "      <td>6</td>\n",
       "      <td>6</td>\n",
       "      <td>6.0</td>\n",
       "      <td>0.0</td>\n",
       "      <td>0</td>\n",
       "      <td>...</td>\n",
       "      <td>20</td>\n",
       "      <td>0.0</td>\n",
       "      <td>0.0</td>\n",
       "      <td>0</td>\n",
       "      <td>0</td>\n",
       "      <td>0.0</td>\n",
       "      <td>0.0</td>\n",
       "      <td>0</td>\n",
       "      <td>0</td>\n",
       "      <td>BENIGN</td>\n",
       "    </tr>\n",
       "  </tbody>\n",
       "</table>\n",
       "<p>5 rows × 78 columns</p>\n",
       "</div>"
      ],
      "text/plain": [
       "   Flow Duration  Total Fwd Packets  Total Backward Packets  \\\n",
       "0              3                  2                       0   \n",
       "1            109                  1                       1   \n",
       "2             52                  1                       1   \n",
       "3             34                  1                       1   \n",
       "4              3                  2                       0   \n",
       "\n",
       "   Total Length of Fwd Packets  Total Length of Bwd Packets  \\\n",
       "0                           12                            0   \n",
       "1                            6                            6   \n",
       "2                            6                            6   \n",
       "3                            6                            6   \n",
       "4                           12                            0   \n",
       "\n",
       "   Fwd Packet Length Max  Fwd Packet Length Min  Fwd Packet Length Mean  \\\n",
       "0                      6                      6                     6.0   \n",
       "1                      6                      6                     6.0   \n",
       "2                      6                      6                     6.0   \n",
       "3                      6                      6                     6.0   \n",
       "4                      6                      6                     6.0   \n",
       "\n",
       "   Fwd Packet Length Std  Bwd Packet Length Max  ...  min_seg_size_forward  \\\n",
       "0                    0.0                      0  ...                    20   \n",
       "1                    0.0                      6  ...                    20   \n",
       "2                    0.0                      6  ...                    20   \n",
       "3                    0.0                      6  ...                    20   \n",
       "4                    0.0                      0  ...                    20   \n",
       "\n",
       "   Active Mean  Active Std  Active Max  Active Min  Idle Mean  Idle Std  \\\n",
       "0          0.0         0.0           0           0        0.0       0.0   \n",
       "1          0.0         0.0           0           0        0.0       0.0   \n",
       "2          0.0         0.0           0           0        0.0       0.0   \n",
       "3          0.0         0.0           0           0        0.0       0.0   \n",
       "4          0.0         0.0           0           0        0.0       0.0   \n",
       "\n",
       "   Idle Max  Idle Min   Label  \n",
       "0         0         0  BENIGN  \n",
       "1         0         0  BENIGN  \n",
       "2         0         0  BENIGN  \n",
       "3         0         0  BENIGN  \n",
       "4         0         0  BENIGN  \n",
       "\n",
       "[5 rows x 78 columns]"
      ]
     },
     "execution_count": 2,
     "metadata": {},
     "output_type": "execute_result"
    }
   ],
   "source": [
    "df = pd.read_csv('data/project_data.csv')\n",
    "df.columns = df.columns.str.strip() # many columns have preceeding and trailing whitespace in their names. This clears that whitespace.\n",
    "df.replace([np.inf, -np.inf], np.nan, inplace=True) # There is an infinity value hiding somewhere\n",
    "drop_columns = ['Source IP', 'Destination IP', 'Source Port', 'Destination Port', 'Flow ID', 'Timestamp', 'Protocol']\n",
    "df.drop(columns=drop_columns, inplace=True)\n",
    "df.head()\n"
   ]
  },
  {
   "cell_type": "code",
   "execution_count": 3,
   "metadata": {},
   "outputs": [
    {
     "name": "stdout",
     "output_type": "stream",
     "text": [
      "Total number of cells that  are empty: 68\n",
      "New total number of empty cells      : 0\n"
     ]
    }
   ],
   "source": [
    "df.replace([np.inf, -np.inf], np.nan, inplace=True) # There is an infinity value hiding somewhere\n",
    "print(f'Total number of cells that  are empty: {df.isnull().sum().sum()}')\n",
    "df.dropna(axis=0, inplace=True)\n",
    "print(f'New total number of empty cells      : {df.isnull().sum().sum()}')"
   ]
  },
  {
   "cell_type": "code",
   "execution_count": 4,
   "metadata": {},
   "outputs": [
    {
     "data": {
      "text/html": [
       "<div>\n",
       "<style scoped>\n",
       "    .dataframe tbody tr th:only-of-type {\n",
       "        vertical-align: middle;\n",
       "    }\n",
       "\n",
       "    .dataframe tbody tr th {\n",
       "        vertical-align: top;\n",
       "    }\n",
       "\n",
       "    .dataframe thead th {\n",
       "        text-align: right;\n",
       "    }\n",
       "</style>\n",
       "<table border=\"1\" class=\"dataframe\">\n",
       "  <thead>\n",
       "    <tr style=\"text-align: right;\">\n",
       "      <th></th>\n",
       "      <th>Flow Duration</th>\n",
       "      <th>Total Fwd Packets</th>\n",
       "      <th>Total Backward Packets</th>\n",
       "      <th>Total Length of Fwd Packets</th>\n",
       "      <th>Total Length of Bwd Packets</th>\n",
       "      <th>Fwd Packet Length Max</th>\n",
       "      <th>Fwd Packet Length Min</th>\n",
       "      <th>Fwd Packet Length Mean</th>\n",
       "      <th>Fwd Packet Length Std</th>\n",
       "      <th>Bwd Packet Length Max</th>\n",
       "      <th>...</th>\n",
       "      <th>min_seg_size_forward</th>\n",
       "      <th>Active Mean</th>\n",
       "      <th>Active Std</th>\n",
       "      <th>Active Max</th>\n",
       "      <th>Active Min</th>\n",
       "      <th>Idle Mean</th>\n",
       "      <th>Idle Std</th>\n",
       "      <th>Idle Max</th>\n",
       "      <th>Idle Min</th>\n",
       "      <th>Label_encoded</th>\n",
       "    </tr>\n",
       "  </thead>\n",
       "  <tbody>\n",
       "    <tr>\n",
       "      <th>0</th>\n",
       "      <td>3</td>\n",
       "      <td>2</td>\n",
       "      <td>0</td>\n",
       "      <td>12</td>\n",
       "      <td>0</td>\n",
       "      <td>6</td>\n",
       "      <td>6</td>\n",
       "      <td>6.0</td>\n",
       "      <td>0.0</td>\n",
       "      <td>0</td>\n",
       "      <td>...</td>\n",
       "      <td>20</td>\n",
       "      <td>0.0</td>\n",
       "      <td>0.0</td>\n",
       "      <td>0</td>\n",
       "      <td>0</td>\n",
       "      <td>0.0</td>\n",
       "      <td>0.0</td>\n",
       "      <td>0</td>\n",
       "      <td>0</td>\n",
       "      <td>0</td>\n",
       "    </tr>\n",
       "    <tr>\n",
       "      <th>1</th>\n",
       "      <td>109</td>\n",
       "      <td>1</td>\n",
       "      <td>1</td>\n",
       "      <td>6</td>\n",
       "      <td>6</td>\n",
       "      <td>6</td>\n",
       "      <td>6</td>\n",
       "      <td>6.0</td>\n",
       "      <td>0.0</td>\n",
       "      <td>6</td>\n",
       "      <td>...</td>\n",
       "      <td>20</td>\n",
       "      <td>0.0</td>\n",
       "      <td>0.0</td>\n",
       "      <td>0</td>\n",
       "      <td>0</td>\n",
       "      <td>0.0</td>\n",
       "      <td>0.0</td>\n",
       "      <td>0</td>\n",
       "      <td>0</td>\n",
       "      <td>0</td>\n",
       "    </tr>\n",
       "    <tr>\n",
       "      <th>2</th>\n",
       "      <td>52</td>\n",
       "      <td>1</td>\n",
       "      <td>1</td>\n",
       "      <td>6</td>\n",
       "      <td>6</td>\n",
       "      <td>6</td>\n",
       "      <td>6</td>\n",
       "      <td>6.0</td>\n",
       "      <td>0.0</td>\n",
       "      <td>6</td>\n",
       "      <td>...</td>\n",
       "      <td>20</td>\n",
       "      <td>0.0</td>\n",
       "      <td>0.0</td>\n",
       "      <td>0</td>\n",
       "      <td>0</td>\n",
       "      <td>0.0</td>\n",
       "      <td>0.0</td>\n",
       "      <td>0</td>\n",
       "      <td>0</td>\n",
       "      <td>0</td>\n",
       "    </tr>\n",
       "    <tr>\n",
       "      <th>3</th>\n",
       "      <td>34</td>\n",
       "      <td>1</td>\n",
       "      <td>1</td>\n",
       "      <td>6</td>\n",
       "      <td>6</td>\n",
       "      <td>6</td>\n",
       "      <td>6</td>\n",
       "      <td>6.0</td>\n",
       "      <td>0.0</td>\n",
       "      <td>6</td>\n",
       "      <td>...</td>\n",
       "      <td>20</td>\n",
       "      <td>0.0</td>\n",
       "      <td>0.0</td>\n",
       "      <td>0</td>\n",
       "      <td>0</td>\n",
       "      <td>0.0</td>\n",
       "      <td>0.0</td>\n",
       "      <td>0</td>\n",
       "      <td>0</td>\n",
       "      <td>0</td>\n",
       "    </tr>\n",
       "    <tr>\n",
       "      <th>4</th>\n",
       "      <td>3</td>\n",
       "      <td>2</td>\n",
       "      <td>0</td>\n",
       "      <td>12</td>\n",
       "      <td>0</td>\n",
       "      <td>6</td>\n",
       "      <td>6</td>\n",
       "      <td>6.0</td>\n",
       "      <td>0.0</td>\n",
       "      <td>0</td>\n",
       "      <td>...</td>\n",
       "      <td>20</td>\n",
       "      <td>0.0</td>\n",
       "      <td>0.0</td>\n",
       "      <td>0</td>\n",
       "      <td>0</td>\n",
       "      <td>0.0</td>\n",
       "      <td>0.0</td>\n",
       "      <td>0</td>\n",
       "      <td>0</td>\n",
       "      <td>0</td>\n",
       "    </tr>\n",
       "  </tbody>\n",
       "</table>\n",
       "<p>5 rows × 78 columns</p>\n",
       "</div>"
      ],
      "text/plain": [
       "   Flow Duration  Total Fwd Packets  Total Backward Packets  \\\n",
       "0              3                  2                       0   \n",
       "1            109                  1                       1   \n",
       "2             52                  1                       1   \n",
       "3             34                  1                       1   \n",
       "4              3                  2                       0   \n",
       "\n",
       "   Total Length of Fwd Packets  Total Length of Bwd Packets  \\\n",
       "0                           12                            0   \n",
       "1                            6                            6   \n",
       "2                            6                            6   \n",
       "3                            6                            6   \n",
       "4                           12                            0   \n",
       "\n",
       "   Fwd Packet Length Max  Fwd Packet Length Min  Fwd Packet Length Mean  \\\n",
       "0                      6                      6                     6.0   \n",
       "1                      6                      6                     6.0   \n",
       "2                      6                      6                     6.0   \n",
       "3                      6                      6                     6.0   \n",
       "4                      6                      6                     6.0   \n",
       "\n",
       "   Fwd Packet Length Std  Bwd Packet Length Max  ...  min_seg_size_forward  \\\n",
       "0                    0.0                      0  ...                    20   \n",
       "1                    0.0                      6  ...                    20   \n",
       "2                    0.0                      6  ...                    20   \n",
       "3                    0.0                      6  ...                    20   \n",
       "4                    0.0                      0  ...                    20   \n",
       "\n",
       "   Active Mean  Active Std  Active Max  Active Min  Idle Mean  Idle Std  \\\n",
       "0          0.0         0.0           0           0        0.0       0.0   \n",
       "1          0.0         0.0           0           0        0.0       0.0   \n",
       "2          0.0         0.0           0           0        0.0       0.0   \n",
       "3          0.0         0.0           0           0        0.0       0.0   \n",
       "4          0.0         0.0           0           0        0.0       0.0   \n",
       "\n",
       "   Idle Max  Idle Min  Label_encoded  \n",
       "0         0         0              0  \n",
       "1         0         0              0  \n",
       "2         0         0              0  \n",
       "3         0         0              0  \n",
       "4         0         0              0  \n",
       "\n",
       "[5 rows x 78 columns]"
      ]
     },
     "execution_count": 4,
     "metadata": {},
     "output_type": "execute_result"
    }
   ],
   "source": [
    "df['Label_encoded'] = df['Label'].map({'BENIGN': 0, 'DDoS': 1})\n",
    "df.drop(columns=['Label'], inplace=True)\n",
    "df.head()"
   ]
  },
  {
   "cell_type": "code",
   "execution_count": 5,
   "metadata": {},
   "outputs": [
    {
     "data": {
      "text/html": [
       "<div>\n",
       "<style scoped>\n",
       "    .dataframe tbody tr th:only-of-type {\n",
       "        vertical-align: middle;\n",
       "    }\n",
       "\n",
       "    .dataframe tbody tr th {\n",
       "        vertical-align: top;\n",
       "    }\n",
       "\n",
       "    .dataframe thead th {\n",
       "        text-align: right;\n",
       "    }\n",
       "</style>\n",
       "<table border=\"1\" class=\"dataframe\">\n",
       "  <thead>\n",
       "    <tr style=\"text-align: right;\">\n",
       "      <th></th>\n",
       "      <th>Flow Duration</th>\n",
       "      <th>Total Fwd Packets</th>\n",
       "      <th>Total Backward Packets</th>\n",
       "      <th>Total Length of Fwd Packets</th>\n",
       "      <th>Total Length of Bwd Packets</th>\n",
       "      <th>Fwd Packet Length Max</th>\n",
       "      <th>Fwd Packet Length Min</th>\n",
       "      <th>Fwd Packet Length Mean</th>\n",
       "      <th>Fwd Packet Length Std</th>\n",
       "      <th>Bwd Packet Length Max</th>\n",
       "      <th>...</th>\n",
       "      <th>min_seg_size_forward</th>\n",
       "      <th>Active Mean</th>\n",
       "      <th>Active Std</th>\n",
       "      <th>Active Max</th>\n",
       "      <th>Active Min</th>\n",
       "      <th>Idle Mean</th>\n",
       "      <th>Idle Std</th>\n",
       "      <th>Idle Max</th>\n",
       "      <th>Idle Min</th>\n",
       "      <th>Label_encoded</th>\n",
       "    </tr>\n",
       "  </thead>\n",
       "  <tbody>\n",
       "    <tr>\n",
       "      <th>0</th>\n",
       "      <td>3.333335e-08</td>\n",
       "      <td>0.000518</td>\n",
       "      <td>0.00000</td>\n",
       "      <td>0.000066</td>\n",
       "      <td>0.000000</td>\n",
       "      <td>0.000514</td>\n",
       "      <td>0.004076</td>\n",
       "      <td>0.001552</td>\n",
       "      <td>0.0</td>\n",
       "      <td>0.000000</td>\n",
       "      <td>...</td>\n",
       "      <td>0.384615</td>\n",
       "      <td>0.0</td>\n",
       "      <td>0.0</td>\n",
       "      <td>0.0</td>\n",
       "      <td>0.0</td>\n",
       "      <td>0.0</td>\n",
       "      <td>0.0</td>\n",
       "      <td>0.0</td>\n",
       "      <td>0.0</td>\n",
       "      <td>0.0</td>\n",
       "    </tr>\n",
       "    <tr>\n",
       "      <th>1</th>\n",
       "      <td>9.166671e-07</td>\n",
       "      <td>0.000000</td>\n",
       "      <td>0.00034</td>\n",
       "      <td>0.000033</td>\n",
       "      <td>0.000001</td>\n",
       "      <td>0.000514</td>\n",
       "      <td>0.004076</td>\n",
       "      <td>0.001552</td>\n",
       "      <td>0.0</td>\n",
       "      <td>0.000514</td>\n",
       "      <td>...</td>\n",
       "      <td>0.384615</td>\n",
       "      <td>0.0</td>\n",
       "      <td>0.0</td>\n",
       "      <td>0.0</td>\n",
       "      <td>0.0</td>\n",
       "      <td>0.0</td>\n",
       "      <td>0.0</td>\n",
       "      <td>0.0</td>\n",
       "      <td>0.0</td>\n",
       "      <td>0.0</td>\n",
       "    </tr>\n",
       "    <tr>\n",
       "      <th>2</th>\n",
       "      <td>4.416669e-07</td>\n",
       "      <td>0.000000</td>\n",
       "      <td>0.00034</td>\n",
       "      <td>0.000033</td>\n",
       "      <td>0.000001</td>\n",
       "      <td>0.000514</td>\n",
       "      <td>0.004076</td>\n",
       "      <td>0.001552</td>\n",
       "      <td>0.0</td>\n",
       "      <td>0.000514</td>\n",
       "      <td>...</td>\n",
       "      <td>0.384615</td>\n",
       "      <td>0.0</td>\n",
       "      <td>0.0</td>\n",
       "      <td>0.0</td>\n",
       "      <td>0.0</td>\n",
       "      <td>0.0</td>\n",
       "      <td>0.0</td>\n",
       "      <td>0.0</td>\n",
       "      <td>0.0</td>\n",
       "      <td>0.0</td>\n",
       "    </tr>\n",
       "    <tr>\n",
       "      <th>3</th>\n",
       "      <td>2.916668e-07</td>\n",
       "      <td>0.000000</td>\n",
       "      <td>0.00034</td>\n",
       "      <td>0.000033</td>\n",
       "      <td>0.000001</td>\n",
       "      <td>0.000514</td>\n",
       "      <td>0.004076</td>\n",
       "      <td>0.001552</td>\n",
       "      <td>0.0</td>\n",
       "      <td>0.000514</td>\n",
       "      <td>...</td>\n",
       "      <td>0.384615</td>\n",
       "      <td>0.0</td>\n",
       "      <td>0.0</td>\n",
       "      <td>0.0</td>\n",
       "      <td>0.0</td>\n",
       "      <td>0.0</td>\n",
       "      <td>0.0</td>\n",
       "      <td>0.0</td>\n",
       "      <td>0.0</td>\n",
       "      <td>0.0</td>\n",
       "    </tr>\n",
       "    <tr>\n",
       "      <th>4</th>\n",
       "      <td>3.333335e-08</td>\n",
       "      <td>0.000518</td>\n",
       "      <td>0.00000</td>\n",
       "      <td>0.000066</td>\n",
       "      <td>0.000000</td>\n",
       "      <td>0.000514</td>\n",
       "      <td>0.004076</td>\n",
       "      <td>0.001552</td>\n",
       "      <td>0.0</td>\n",
       "      <td>0.000000</td>\n",
       "      <td>...</td>\n",
       "      <td>0.384615</td>\n",
       "      <td>0.0</td>\n",
       "      <td>0.0</td>\n",
       "      <td>0.0</td>\n",
       "      <td>0.0</td>\n",
       "      <td>0.0</td>\n",
       "      <td>0.0</td>\n",
       "      <td>0.0</td>\n",
       "      <td>0.0</td>\n",
       "      <td>0.0</td>\n",
       "    </tr>\n",
       "  </tbody>\n",
       "</table>\n",
       "<p>5 rows × 78 columns</p>\n",
       "</div>"
      ],
      "text/plain": [
       "   Flow Duration  Total Fwd Packets  Total Backward Packets  \\\n",
       "0   3.333335e-08           0.000518                 0.00000   \n",
       "1   9.166671e-07           0.000000                 0.00034   \n",
       "2   4.416669e-07           0.000000                 0.00034   \n",
       "3   2.916668e-07           0.000000                 0.00034   \n",
       "4   3.333335e-08           0.000518                 0.00000   \n",
       "\n",
       "   Total Length of Fwd Packets  Total Length of Bwd Packets  \\\n",
       "0                     0.000066                     0.000000   \n",
       "1                     0.000033                     0.000001   \n",
       "2                     0.000033                     0.000001   \n",
       "3                     0.000033                     0.000001   \n",
       "4                     0.000066                     0.000000   \n",
       "\n",
       "   Fwd Packet Length Max  Fwd Packet Length Min  Fwd Packet Length Mean  \\\n",
       "0               0.000514               0.004076                0.001552   \n",
       "1               0.000514               0.004076                0.001552   \n",
       "2               0.000514               0.004076                0.001552   \n",
       "3               0.000514               0.004076                0.001552   \n",
       "4               0.000514               0.004076                0.001552   \n",
       "\n",
       "   Fwd Packet Length Std  Bwd Packet Length Max  ...  min_seg_size_forward  \\\n",
       "0                    0.0               0.000000  ...              0.384615   \n",
       "1                    0.0               0.000514  ...              0.384615   \n",
       "2                    0.0               0.000514  ...              0.384615   \n",
       "3                    0.0               0.000514  ...              0.384615   \n",
       "4                    0.0               0.000000  ...              0.384615   \n",
       "\n",
       "   Active Mean  Active Std  Active Max  Active Min  Idle Mean  Idle Std  \\\n",
       "0          0.0         0.0         0.0         0.0        0.0       0.0   \n",
       "1          0.0         0.0         0.0         0.0        0.0       0.0   \n",
       "2          0.0         0.0         0.0         0.0        0.0       0.0   \n",
       "3          0.0         0.0         0.0         0.0        0.0       0.0   \n",
       "4          0.0         0.0         0.0         0.0        0.0       0.0   \n",
       "\n",
       "   Idle Max  Idle Min  Label_encoded  \n",
       "0       0.0       0.0            0.0  \n",
       "1       0.0       0.0            0.0  \n",
       "2       0.0       0.0            0.0  \n",
       "3       0.0       0.0            0.0  \n",
       "4       0.0       0.0            0.0  \n",
       "\n",
       "[5 rows x 78 columns]"
      ]
     },
     "execution_count": 5,
     "metadata": {},
     "output_type": "execute_result"
    }
   ],
   "source": [
    "from sklearn.preprocessing import MinMaxScaler\n",
    "\n",
    "min_max_scaler = MinMaxScaler()\n",
    "normalized_data = min_max_scaler.fit_transform(df)\n",
    "normalized_df = pd.DataFrame(normalized_data, columns=df.columns)\n",
    "original_normalized_df = pd.DataFrame(normalized_df, columns=normalized_df.columns) # this is to save the normalized_df for later. The normalized_df has columns dropped in place a lot\n",
    "normalized_df.head()"
   ]
  },
  {
   "cell_type": "code",
   "execution_count": 6,
   "metadata": {},
   "outputs": [
    {
     "data": {
      "text/html": [
       "<div>\n",
       "<style scoped>\n",
       "    .dataframe tbody tr th:only-of-type {\n",
       "        vertical-align: middle;\n",
       "    }\n",
       "\n",
       "    .dataframe tbody tr th {\n",
       "        vertical-align: top;\n",
       "    }\n",
       "\n",
       "    .dataframe thead th {\n",
       "        text-align: right;\n",
       "    }\n",
       "</style>\n",
       "<table border=\"1\" class=\"dataframe\">\n",
       "  <thead>\n",
       "    <tr style=\"text-align: right;\">\n",
       "      <th></th>\n",
       "      <th>Flow Duration</th>\n",
       "      <th>Total Fwd Packets</th>\n",
       "      <th>Total Backward Packets</th>\n",
       "      <th>Total Length of Fwd Packets</th>\n",
       "      <th>Total Length of Bwd Packets</th>\n",
       "      <th>Fwd Packet Length Max</th>\n",
       "      <th>Fwd Packet Length Min</th>\n",
       "      <th>Fwd Packet Length Mean</th>\n",
       "      <th>Fwd Packet Length Std</th>\n",
       "      <th>Bwd Packet Length Max</th>\n",
       "      <th>...</th>\n",
       "      <th>min_seg_size_forward</th>\n",
       "      <th>Active Mean</th>\n",
       "      <th>Active Std</th>\n",
       "      <th>Active Max</th>\n",
       "      <th>Active Min</th>\n",
       "      <th>Idle Mean</th>\n",
       "      <th>Idle Std</th>\n",
       "      <th>Idle Max</th>\n",
       "      <th>Idle Min</th>\n",
       "      <th>Label_encoded</th>\n",
       "    </tr>\n",
       "  </thead>\n",
       "  <tbody>\n",
       "    <tr>\n",
       "      <th>count</th>\n",
       "      <td>225711.000000</td>\n",
       "      <td>225711.000000</td>\n",
       "      <td>225711.000000</td>\n",
       "      <td>225711.000000</td>\n",
       "      <td>225711.000000</td>\n",
       "      <td>225711.000000</td>\n",
       "      <td>225711.000000</td>\n",
       "      <td>225711.000000</td>\n",
       "      <td>225711.000000</td>\n",
       "      <td>225711.000000</td>\n",
       "      <td>...</td>\n",
       "      <td>225711.000000</td>\n",
       "      <td>225711.000000</td>\n",
       "      <td>225711.000000</td>\n",
       "      <td>225711.000000</td>\n",
       "      <td>225711.000000</td>\n",
       "      <td>225711.000000</td>\n",
       "      <td>225711.000000</td>\n",
       "      <td>225711.000000</td>\n",
       "      <td>225711.000000</td>\n",
       "      <td>225711.000000</td>\n",
       "    </tr>\n",
       "    <tr>\n",
       "      <th>mean</th>\n",
       "      <td>0.135368</td>\n",
       "      <td>0.002007</td>\n",
       "      <td>0.001555</td>\n",
       "      <td>0.005134</td>\n",
       "      <td>0.001153</td>\n",
       "      <td>0.046114</td>\n",
       "      <td>0.018944</td>\n",
       "      <td>0.042630</td>\n",
       "      <td>0.032116</td>\n",
       "      <td>0.234246</td>\n",
       "      <td>...</td>\n",
       "      <td>0.413122</td>\n",
       "      <td>0.001849</td>\n",
       "      <td>0.000328</td>\n",
       "      <td>0.002081</td>\n",
       "      <td>0.001776</td>\n",
       "      <td>0.086031</td>\n",
       "      <td>0.055321</td>\n",
       "      <td>0.107334</td>\n",
       "      <td>0.064638</td>\n",
       "      <td>0.567208</td>\n",
       "    </tr>\n",
       "    <tr>\n",
       "      <th>std</th>\n",
       "      <td>0.262718</td>\n",
       "      <td>0.007988</td>\n",
       "      <td>0.007395</td>\n",
       "      <td>0.017756</td>\n",
       "      <td>0.007583</td>\n",
       "      <td>0.159611</td>\n",
       "      <td>0.110962</td>\n",
       "      <td>0.130573</td>\n",
       "      <td>0.119156</td>\n",
       "      <td>0.317231</td>\n",
       "      <td>...</td>\n",
       "      <td>0.080120</td>\n",
       "      <td>0.007980</td>\n",
       "      <td>0.005324</td>\n",
       "      <td>0.009003</td>\n",
       "      <td>0.007843</td>\n",
       "      <td>0.182119</td>\n",
       "      <td>0.195372</td>\n",
       "      <td>0.224357</td>\n",
       "      <td>0.165270</td>\n",
       "      <td>0.495464</td>\n",
       "    </tr>\n",
       "    <tr>\n",
       "      <th>min</th>\n",
       "      <td>0.000000</td>\n",
       "      <td>0.000000</td>\n",
       "      <td>0.000000</td>\n",
       "      <td>0.000000</td>\n",
       "      <td>0.000000</td>\n",
       "      <td>0.000000</td>\n",
       "      <td>0.000000</td>\n",
       "      <td>0.000000</td>\n",
       "      <td>0.000000</td>\n",
       "      <td>0.000000</td>\n",
       "      <td>...</td>\n",
       "      <td>0.000000</td>\n",
       "      <td>0.000000</td>\n",
       "      <td>0.000000</td>\n",
       "      <td>0.000000</td>\n",
       "      <td>0.000000</td>\n",
       "      <td>0.000000</td>\n",
       "      <td>0.000000</td>\n",
       "      <td>0.000000</td>\n",
       "      <td>0.000000</td>\n",
       "      <td>0.000000</td>\n",
       "    </tr>\n",
       "    <tr>\n",
       "      <th>25%</th>\n",
       "      <td>0.000594</td>\n",
       "      <td>0.000518</td>\n",
       "      <td>0.000340</td>\n",
       "      <td>0.000142</td>\n",
       "      <td>0.000000</td>\n",
       "      <td>0.000514</td>\n",
       "      <td>0.000000</td>\n",
       "      <td>0.001552</td>\n",
       "      <td>0.000000</td>\n",
       "      <td>0.000000</td>\n",
       "      <td>...</td>\n",
       "      <td>0.384615</td>\n",
       "      <td>0.000000</td>\n",
       "      <td>0.000000</td>\n",
       "      <td>0.000000</td>\n",
       "      <td>0.000000</td>\n",
       "      <td>0.000000</td>\n",
       "      <td>0.000000</td>\n",
       "      <td>0.000000</td>\n",
       "      <td>0.000000</td>\n",
       "      <td>0.000000</td>\n",
       "    </tr>\n",
       "    <tr>\n",
       "      <th>50%</th>\n",
       "      <td>0.012110</td>\n",
       "      <td>0.001036</td>\n",
       "      <td>0.001360</td>\n",
       "      <td>0.000164</td>\n",
       "      <td>0.000032</td>\n",
       "      <td>0.001712</td>\n",
       "      <td>0.000000</td>\n",
       "      <td>0.002241</td>\n",
       "      <td>0.000792</td>\n",
       "      <td>0.008476</td>\n",
       "      <td>...</td>\n",
       "      <td>0.384615</td>\n",
       "      <td>0.000000</td>\n",
       "      <td>0.000000</td>\n",
       "      <td>0.000000</td>\n",
       "      <td>0.000000</td>\n",
       "      <td>0.000000</td>\n",
       "      <td>0.000000</td>\n",
       "      <td>0.000000</td>\n",
       "      <td>0.000000</td>\n",
       "      <td>1.000000</td>\n",
       "    </tr>\n",
       "    <tr>\n",
       "      <th>75%</th>\n",
       "      <td>0.073389</td>\n",
       "      <td>0.002071</td>\n",
       "      <td>0.001700</td>\n",
       "      <td>0.000350</td>\n",
       "      <td>0.002243</td>\n",
       "      <td>0.002911</td>\n",
       "      <td>0.004076</td>\n",
       "      <td>0.008275</td>\n",
       "      <td>0.001534</td>\n",
       "      <td>0.500000</td>\n",
       "      <td>...</td>\n",
       "      <td>0.384615</td>\n",
       "      <td>0.000019</td>\n",
       "      <td>0.000000</td>\n",
       "      <td>0.000019</td>\n",
       "      <td>0.000019</td>\n",
       "      <td>0.068678</td>\n",
       "      <td>0.000000</td>\n",
       "      <td>0.068787</td>\n",
       "      <td>0.061866</td>\n",
       "      <td>1.000000</td>\n",
       "    </tr>\n",
       "    <tr>\n",
       "      <th>max</th>\n",
       "      <td>1.000000</td>\n",
       "      <td>1.000000</td>\n",
       "      <td>1.000000</td>\n",
       "      <td>1.000000</td>\n",
       "      <td>1.000000</td>\n",
       "      <td>1.000000</td>\n",
       "      <td>1.000000</td>\n",
       "      <td>1.000000</td>\n",
       "      <td>1.000000</td>\n",
       "      <td>1.000000</td>\n",
       "      <td>...</td>\n",
       "      <td>1.000000</td>\n",
       "      <td>1.000000</td>\n",
       "      <td>1.000000</td>\n",
       "      <td>1.000000</td>\n",
       "      <td>1.000000</td>\n",
       "      <td>1.000000</td>\n",
       "      <td>1.000000</td>\n",
       "      <td>1.000000</td>\n",
       "      <td>1.000000</td>\n",
       "      <td>1.000000</td>\n",
       "    </tr>\n",
       "  </tbody>\n",
       "</table>\n",
       "<p>8 rows × 78 columns</p>\n",
       "</div>"
      ],
      "text/plain": [
       "       Flow Duration  Total Fwd Packets  Total Backward Packets  \\\n",
       "count  225711.000000      225711.000000           225711.000000   \n",
       "mean        0.135368           0.002007                0.001555   \n",
       "std         0.262718           0.007988                0.007395   \n",
       "min         0.000000           0.000000                0.000000   \n",
       "25%         0.000594           0.000518                0.000340   \n",
       "50%         0.012110           0.001036                0.001360   \n",
       "75%         0.073389           0.002071                0.001700   \n",
       "max         1.000000           1.000000                1.000000   \n",
       "\n",
       "       Total Length of Fwd Packets  Total Length of Bwd Packets  \\\n",
       "count                225711.000000                225711.000000   \n",
       "mean                      0.005134                     0.001153   \n",
       "std                       0.017756                     0.007583   \n",
       "min                       0.000000                     0.000000   \n",
       "25%                       0.000142                     0.000000   \n",
       "50%                       0.000164                     0.000032   \n",
       "75%                       0.000350                     0.002243   \n",
       "max                       1.000000                     1.000000   \n",
       "\n",
       "       Fwd Packet Length Max  Fwd Packet Length Min  Fwd Packet Length Mean  \\\n",
       "count          225711.000000          225711.000000           225711.000000   \n",
       "mean                0.046114               0.018944                0.042630   \n",
       "std                 0.159611               0.110962                0.130573   \n",
       "min                 0.000000               0.000000                0.000000   \n",
       "25%                 0.000514               0.000000                0.001552   \n",
       "50%                 0.001712               0.000000                0.002241   \n",
       "75%                 0.002911               0.004076                0.008275   \n",
       "max                 1.000000               1.000000                1.000000   \n",
       "\n",
       "       Fwd Packet Length Std  Bwd Packet Length Max  ...  \\\n",
       "count          225711.000000          225711.000000  ...   \n",
       "mean                0.032116               0.234246  ...   \n",
       "std                 0.119156               0.317231  ...   \n",
       "min                 0.000000               0.000000  ...   \n",
       "25%                 0.000000               0.000000  ...   \n",
       "50%                 0.000792               0.008476  ...   \n",
       "75%                 0.001534               0.500000  ...   \n",
       "max                 1.000000               1.000000  ...   \n",
       "\n",
       "       min_seg_size_forward    Active Mean     Active Std     Active Max  \\\n",
       "count         225711.000000  225711.000000  225711.000000  225711.000000   \n",
       "mean               0.413122       0.001849       0.000328       0.002081   \n",
       "std                0.080120       0.007980       0.005324       0.009003   \n",
       "min                0.000000       0.000000       0.000000       0.000000   \n",
       "25%                0.384615       0.000000       0.000000       0.000000   \n",
       "50%                0.384615       0.000000       0.000000       0.000000   \n",
       "75%                0.384615       0.000019       0.000000       0.000019   \n",
       "max                1.000000       1.000000       1.000000       1.000000   \n",
       "\n",
       "          Active Min      Idle Mean       Idle Std       Idle Max  \\\n",
       "count  225711.000000  225711.000000  225711.000000  225711.000000   \n",
       "mean        0.001776       0.086031       0.055321       0.107334   \n",
       "std         0.007843       0.182119       0.195372       0.224357   \n",
       "min         0.000000       0.000000       0.000000       0.000000   \n",
       "25%         0.000000       0.000000       0.000000       0.000000   \n",
       "50%         0.000000       0.000000       0.000000       0.000000   \n",
       "75%         0.000019       0.068678       0.000000       0.068787   \n",
       "max         1.000000       1.000000       1.000000       1.000000   \n",
       "\n",
       "            Idle Min  Label_encoded  \n",
       "count  225711.000000  225711.000000  \n",
       "mean        0.064638       0.567208  \n",
       "std         0.165270       0.495464  \n",
       "min         0.000000       0.000000  \n",
       "25%         0.000000       0.000000  \n",
       "50%         0.000000       1.000000  \n",
       "75%         0.061866       1.000000  \n",
       "max         1.000000       1.000000  \n",
       "\n",
       "[8 rows x 78 columns]"
      ]
     },
     "execution_count": 6,
     "metadata": {},
     "output_type": "execute_result"
    }
   ],
   "source": [
    "normalized_df.describe()"
   ]
  },
  {
   "cell_type": "code",
   "execution_count": 7,
   "metadata": {},
   "outputs": [],
   "source": [
    "y = normalized_df['Label_encoded']\n",
    "X = normalized_df.drop(columns=['Label_encoded'])\n",
    "Xtrain, Xtest, ytrain, ytest = train_test_split(X, y, test_size=0.20, random_state=42)"
   ]
  },
  {
   "cell_type": "code",
   "execution_count": 8,
   "metadata": {},
   "outputs": [
    {
     "data": {
      "text/html": [
       "<style>#sk-container-id-1 {color: black;background-color: white;}#sk-container-id-1 pre{padding: 0;}#sk-container-id-1 div.sk-toggleable {background-color: white;}#sk-container-id-1 label.sk-toggleable__label {cursor: pointer;display: block;width: 100%;margin-bottom: 0;padding: 0.3em;box-sizing: border-box;text-align: center;}#sk-container-id-1 label.sk-toggleable__label-arrow:before {content: \"▸\";float: left;margin-right: 0.25em;color: #696969;}#sk-container-id-1 label.sk-toggleable__label-arrow:hover:before {color: black;}#sk-container-id-1 div.sk-estimator:hover label.sk-toggleable__label-arrow:before {color: black;}#sk-container-id-1 div.sk-toggleable__content {max-height: 0;max-width: 0;overflow: hidden;text-align: left;background-color: #f0f8ff;}#sk-container-id-1 div.sk-toggleable__content pre {margin: 0.2em;color: black;border-radius: 0.25em;background-color: #f0f8ff;}#sk-container-id-1 input.sk-toggleable__control:checked~div.sk-toggleable__content {max-height: 200px;max-width: 100%;overflow: auto;}#sk-container-id-1 input.sk-toggleable__control:checked~label.sk-toggleable__label-arrow:before {content: \"▾\";}#sk-container-id-1 div.sk-estimator input.sk-toggleable__control:checked~label.sk-toggleable__label {background-color: #d4ebff;}#sk-container-id-1 div.sk-label input.sk-toggleable__control:checked~label.sk-toggleable__label {background-color: #d4ebff;}#sk-container-id-1 input.sk-hidden--visually {border: 0;clip: rect(1px 1px 1px 1px);clip: rect(1px, 1px, 1px, 1px);height: 1px;margin: -1px;overflow: hidden;padding: 0;position: absolute;width: 1px;}#sk-container-id-1 div.sk-estimator {font-family: monospace;background-color: #f0f8ff;border: 1px dotted black;border-radius: 0.25em;box-sizing: border-box;margin-bottom: 0.5em;}#sk-container-id-1 div.sk-estimator:hover {background-color: #d4ebff;}#sk-container-id-1 div.sk-parallel-item::after {content: \"\";width: 100%;border-bottom: 1px solid gray;flex-grow: 1;}#sk-container-id-1 div.sk-label:hover label.sk-toggleable__label {background-color: #d4ebff;}#sk-container-id-1 div.sk-serial::before {content: \"\";position: absolute;border-left: 1px solid gray;box-sizing: border-box;top: 0;bottom: 0;left: 50%;z-index: 0;}#sk-container-id-1 div.sk-serial {display: flex;flex-direction: column;align-items: center;background-color: white;padding-right: 0.2em;padding-left: 0.2em;position: relative;}#sk-container-id-1 div.sk-item {position: relative;z-index: 1;}#sk-container-id-1 div.sk-parallel {display: flex;align-items: stretch;justify-content: center;background-color: white;position: relative;}#sk-container-id-1 div.sk-item::before, #sk-container-id-1 div.sk-parallel-item::before {content: \"\";position: absolute;border-left: 1px solid gray;box-sizing: border-box;top: 0;bottom: 0;left: 50%;z-index: -1;}#sk-container-id-1 div.sk-parallel-item {display: flex;flex-direction: column;z-index: 1;position: relative;background-color: white;}#sk-container-id-1 div.sk-parallel-item:first-child::after {align-self: flex-end;width: 50%;}#sk-container-id-1 div.sk-parallel-item:last-child::after {align-self: flex-start;width: 50%;}#sk-container-id-1 div.sk-parallel-item:only-child::after {width: 0;}#sk-container-id-1 div.sk-dashed-wrapped {border: 1px dashed gray;margin: 0 0.4em 0.5em 0.4em;box-sizing: border-box;padding-bottom: 0.4em;background-color: white;}#sk-container-id-1 div.sk-label label {font-family: monospace;font-weight: bold;display: inline-block;line-height: 1.2em;}#sk-container-id-1 div.sk-label-container {text-align: center;}#sk-container-id-1 div.sk-container {/* jupyter's `normalize.less` sets `[hidden] { display: none; }` but bootstrap.min.css set `[hidden] { display: none !important; }` so we also need the `!important` here to be able to override the default hidden behavior on the sphinx rendered scikit-learn.org. See: https://github.com/scikit-learn/scikit-learn/issues/21755 */display: inline-block !important;position: relative;}#sk-container-id-1 div.sk-text-repr-fallback {display: none;}</style><div id=\"sk-container-id-1\" class=\"sk-top-container\"><div class=\"sk-text-repr-fallback\"><pre>DecisionTreeClassifier(max_depth=25, max_leaf_nodes=25, random_state=42)</pre><b>In a Jupyter environment, please rerun this cell to show the HTML representation or trust the notebook. <br />On GitHub, the HTML representation is unable to render, please try loading this page with nbviewer.org.</b></div><div class=\"sk-container\" hidden><div class=\"sk-item\"><div class=\"sk-estimator sk-toggleable\"><input class=\"sk-toggleable__control sk-hidden--visually\" id=\"sk-estimator-id-1\" type=\"checkbox\" checked><label for=\"sk-estimator-id-1\" class=\"sk-toggleable__label sk-toggleable__label-arrow\">DecisionTreeClassifier</label><div class=\"sk-toggleable__content\"><pre>DecisionTreeClassifier(max_depth=25, max_leaf_nodes=25, random_state=42)</pre></div></div></div></div></div>"
      ],
      "text/plain": [
       "DecisionTreeClassifier(max_depth=25, max_leaf_nodes=25, random_state=42)"
      ]
     },
     "execution_count": 8,
     "metadata": {},
     "output_type": "execute_result"
    }
   ],
   "source": [
    "tree_classifier = DecisionTreeClassifier(max_depth=25, max_leaf_nodes=25, random_state=42, criterion='gini')\n",
    "tree_classifier.fit(Xtrain, ytrain)"
   ]
  },
  {
   "cell_type": "code",
   "execution_count": 9,
   "metadata": {},
   "outputs": [
    {
     "name": "stdout",
     "output_type": "stream",
     "text": [
      "Accuracy: 0.9994019006268967\n"
     ]
    }
   ],
   "source": [
    "from sklearn.metrics import mean_squared_error, accuracy_score\n",
    "ypred = tree_classifier.predict(Xtest)\n",
    "tree_acc = accuracy_score(ytest, ypred)\n",
    "print(f'Accuracy: {tree_acc}')"
   ]
  },
  {
   "cell_type": "code",
   "execution_count": 10,
   "metadata": {},
   "outputs": [
    {
     "name": "stdout",
     "output_type": "stream",
     "text": [
      "                        importance\n",
      "Fwd Packet Length Max     0.573896\n",
      "Subflow Fwd Bytes         0.420578\n",
      "Init_Win_bytes_forward    0.002326\n",
      "Bwd Packet Length Mean    0.000855\n",
      "Flow IAT Std              0.000449\n",
      "...                            ...\n",
      "Total Fwd Packets         0.000000\n",
      "Packet Length Mean        0.000000\n",
      "Packet Length Std         0.000000\n",
      "Packet Length Variance    0.000000\n",
      "Idle Min                  0.000000\n",
      "\n",
      "[77 rows x 1 columns]\n"
     ]
    }
   ],
   "source": [
    "#print(f'Feature Importances: {tree_classifier.feature_importances_}')\n",
    "tree_feature_importances = pd.DataFrame(tree_classifier.feature_importances_, index = Xtrain.columns, columns=['importance']).sort_values('importance', ascending=False)\n",
    "print(tree_feature_importances)"
   ]
  },
  {
   "cell_type": "code",
   "execution_count": 11,
   "metadata": {},
   "outputs": [
    {
     "name": "stdout",
     "output_type": "stream",
     "text": [
      "Accuracy: 0.999313293312363\n"
     ]
    }
   ],
   "source": [
    "normalized_df.drop(columns=['Fwd Packet Length Max', 'Subflow Fwd Bytes'], inplace=True)\n",
    "# drop the highest importances, and see if we can get a more \n",
    "\n",
    "y = normalized_df['Label_encoded']\n",
    "X = normalized_df.drop(columns=['Label_encoded'])\n",
    "Xtrain, Xtest, ytrain, ytest = train_test_split(X, y, test_size=0.20, random_state=42)\n",
    "\n",
    "tree_classifier_2 = DecisionTreeClassifier(max_depth=25, max_leaf_nodes=25, random_state=42, criterion='gini')\n",
    "tree_classifier_2.fit(Xtrain, ytrain)\n",
    "\n",
    "ypred = tree_classifier_2.predict(Xtest)\n",
    "tree_acc_2 = accuracy_score(ytest, ypred)\n",
    "print(f'Accuracy: {tree_acc_2}')\n"
   ]
  },
  {
   "cell_type": "code",
   "execution_count": 12,
   "metadata": {},
   "outputs": [
    {
     "name": "stdout",
     "output_type": "stream",
     "text": [
      "                             importance\n",
      "Fwd Packet Length Mean         0.572717\n",
      "Total Length of Fwd Packets    0.420368\n",
      "Bwd Header Length              0.002834\n",
      "Init_Win_bytes_forward         0.001187\n",
      "Avg Bwd Segment Size           0.000855\n",
      "...                                 ...\n",
      "Total Fwd Packets              0.000000\n",
      "Packet Length Mean             0.000000\n",
      "Packet Length Std              0.000000\n",
      "Packet Length Variance         0.000000\n",
      "Idle Min                       0.000000\n",
      "\n",
      "[75 rows x 1 columns]\n"
     ]
    }
   ],
   "source": [
    "tree_feature_importances = pd.DataFrame(tree_classifier_2.feature_importances_, index = Xtrain.columns, columns=['importance']).sort_values('importance', ascending=False)\n",
    "print(tree_feature_importances)"
   ]
  },
  {
   "cell_type": "code",
   "execution_count": 13,
   "metadata": {},
   "outputs": [
    {
     "name": "stdout",
     "output_type": "stream",
     "text": [
      "Accuracy: 0.9993797487982633\n"
     ]
    }
   ],
   "source": [
    "normalized_df.drop(columns=['Fwd Packet Length Mean', 'Total Length of Fwd Packets'], inplace=True)\n",
    "\n",
    "y = normalized_df['Label_encoded']\n",
    "X = normalized_df.drop(columns=['Label_encoded'])\n",
    "Xtrain, Xtest, ytrain, ytest = train_test_split(X, y, test_size=0.20, random_state=42)\n",
    "\n",
    "tree_classifier_3 = DecisionTreeClassifier(max_depth=25, max_leaf_nodes=25, random_state=42, criterion='gini')\n",
    "tree_classifier_3.fit(Xtrain, ytrain)\n",
    "\n",
    "ypred = tree_classifier_3.predict(Xtest)\n",
    "tree_acc_3 = accuracy_score(ytest, ypred)\n",
    "print(f'Accuracy: {tree_acc_3}')\n",
    "\n"
   ]
  },
  {
   "cell_type": "code",
   "execution_count": 14,
   "metadata": {},
   "outputs": [
    {
     "name": "stdout",
     "output_type": "stream",
     "text": [
      "                         importance\n",
      "Avg Fwd Segment Size       0.573096\n",
      "act_data_pkt_fwd           0.381692\n",
      "Avg Bwd Segment Size       0.023123\n",
      "Init_Win_bytes_backward    0.015988\n",
      "Fwd Header Length          0.002702\n",
      "...                             ...\n",
      "Bwd Packets/s              0.000000\n",
      "Min Packet Length          0.000000\n",
      "Max Packet Length          0.000000\n",
      "Total Fwd Packets          0.000000\n",
      "Idle Min                   0.000000\n",
      "\n",
      "[73 rows x 1 columns]\n"
     ]
    }
   ],
   "source": [
    "tree_feature_importances = pd.DataFrame(tree_classifier_3.feature_importances_, index = Xtrain.columns, columns=['importance']).sort_values('importance', ascending=False)\n",
    "print(tree_feature_importances)"
   ]
  },
  {
   "cell_type": "code",
   "execution_count": 15,
   "metadata": {},
   "outputs": [
    {
     "name": "stdout",
     "output_type": "stream",
     "text": [
      "Accuracy: 0.9995569634273309\n",
      "                         importance\n",
      "Init_Win_bytes_forward     0.543507\n",
      "Fwd Packet Length Std      0.292457\n",
      "Flow IAT Std               0.123143\n",
      "Packet Length Mean         0.034127\n",
      "Init_Win_bytes_backward    0.001841\n",
      "...                             ...\n",
      "Min Packet Length          0.000000\n",
      "Total Fwd Packets          0.000000\n",
      "Packet Length Std          0.000000\n",
      "Packet Length Variance     0.000000\n",
      "Idle Min                   0.000000\n",
      "\n",
      "[71 rows x 1 columns]\n"
     ]
    }
   ],
   "source": [
    "normalized_df.drop(columns=['Avg Fwd Segment Size', 'act_data_pkt_fwd'], inplace=True)\n",
    "\n",
    "y = normalized_df['Label_encoded']\n",
    "X = normalized_df.drop(columns=['Label_encoded'])\n",
    "Xtrain, Xtest, ytrain, ytest = train_test_split(X, y, test_size=0.20, random_state=42)\n",
    "\n",
    "tree_classifier_4 = DecisionTreeClassifier(max_depth=25, max_leaf_nodes=25, random_state=42, criterion='gini')\n",
    "tree_classifier_4.fit(Xtrain, ytrain)\n",
    "\n",
    "ypred = tree_classifier_4.predict(Xtest)\n",
    "tree_acc_4 = accuracy_score(ytest, ypred)\n",
    "print(f'Accuracy: {tree_acc_4}')\n",
    "\n",
    "tree_feature_importances = pd.DataFrame(tree_classifier_4.feature_importances_, index = Xtrain.columns, columns=['importance']).sort_values('importance', ascending=False)\n",
    "print(tree_feature_importances)"
   ]
  },
  {
   "cell_type": "code",
   "execution_count": 16,
   "metadata": {},
   "outputs": [
    {
     "name": "stdout",
     "output_type": "stream",
     "text": [
      "Accuracy: 0.9986930421106263\n",
      "                         importance\n",
      "Subflow Fwd Packets        0.455423\n",
      "Init_Win_bytes_backward    0.309963\n",
      "Fwd Header Length          0.083817\n",
      "Bwd Packet Length Min      0.070161\n",
      "Avg Bwd Segment Size       0.023705\n",
      "...                             ...\n",
      "Min Packet Length          0.000000\n",
      "Total Fwd Packets          0.000000\n",
      "Packet Length Std          0.000000\n",
      "Packet Length Variance     0.000000\n",
      "Idle Min                   0.000000\n",
      "\n",
      "[69 rows x 1 columns]\n"
     ]
    }
   ],
   "source": [
    "normalized_df.drop(columns=['Init_Win_bytes_forward', 'Fwd Packet Length Std'], inplace=True)\n",
    "\n",
    "y = normalized_df['Label_encoded']\n",
    "X = normalized_df.drop(columns=['Label_encoded'])\n",
    "Xtrain, Xtest, ytrain, ytest = train_test_split(X, y, test_size=0.20, random_state=42)\n",
    "\n",
    "tree_classifier_5 = DecisionTreeClassifier(max_depth=25, max_leaf_nodes=25, random_state=42, criterion='gini')\n",
    "tree_classifier_5.fit(Xtrain, ytrain)\n",
    "\n",
    "ypred = tree_classifier_5.predict(Xtest)\n",
    "tree_acc_5 = accuracy_score(ytest, ypred)\n",
    "print(f'Accuracy: {tree_acc_5}')\n",
    "\n",
    "tree_feature_importances = pd.DataFrame(tree_classifier_5.feature_importances_, index = Xtrain.columns, columns=['importance']).sort_values('importance', ascending=False)\n",
    "print(tree_feature_importances)"
   ]
  },
  {
   "cell_type": "code",
   "execution_count": 17,
   "metadata": {},
   "outputs": [
    {
     "name": "stdout",
     "output_type": "stream",
     "text": [
      "Accuracy: 0.9975632988503201\n",
      "                       importance\n",
      "Total Fwd Packets        0.457645\n",
      "Bwd Header Length        0.229473\n",
      "Bwd Packet Length Min    0.152375\n",
      "min_seg_size_forward     0.044431\n",
      "PSH Flag Count           0.032642\n",
      "...                           ...\n",
      "Bwd Packets/s            0.000000\n",
      "Max Packet Length        0.000000\n",
      "Packet Length Mean       0.000000\n",
      "Packet Length Std        0.000000\n",
      "Idle Min                 0.000000\n",
      "\n",
      "[67 rows x 1 columns]\n"
     ]
    }
   ],
   "source": [
    "normalized_df.drop(columns=['Subflow Fwd Packets', 'Init_Win_bytes_backward'], inplace=True)\n",
    "y = normalized_df['Label_encoded']\n",
    "X = normalized_df.drop(columns=['Label_encoded'])\n",
    "Xtrain, Xtest, ytrain, ytest = train_test_split(X, y, test_size=0.20, random_state=42)\n",
    "\n",
    "tree_classifier_6 = DecisionTreeClassifier(max_depth=25, max_leaf_nodes=25, random_state=42, criterion='gini')\n",
    "tree_classifier_6.fit(Xtrain, ytrain)\n",
    "\n",
    "ypred = tree_classifier_6.predict(Xtest)\n",
    "tree_acc_6 = accuracy_score(ytest, ypred)\n",
    "print(f'Accuracy: {tree_acc_6}')\n",
    "\n",
    "tree_feature_importances = pd.DataFrame(tree_classifier_6.feature_importances_, index = Xtrain.columns, columns=['importance']).sort_values('importance', ascending=False)\n",
    "print(tree_feature_importances)"
   ]
  },
  {
   "cell_type": "code",
   "execution_count": 18,
   "metadata": {},
   "outputs": [
    {
     "name": "stdout",
     "output_type": "stream",
     "text": [
      "Accuracy: 0.9975854506789535\n",
      "                        importance\n",
      "Bwd Packet Length Min     0.455087\n",
      "Bwd IAT Total             0.231481\n",
      "Flow IAT Std              0.160155\n",
      "min_seg_size_forward      0.052910\n",
      "PSH Flag Count            0.033321\n",
      "...                            ...\n",
      "Min Packet Length         0.000000\n",
      "Packet Length Std         0.000000\n",
      "Packet Length Variance    0.000000\n",
      "FIN Flag Count            0.000000\n",
      "Idle Min                  0.000000\n",
      "\n",
      "[65 rows x 1 columns]\n"
     ]
    }
   ],
   "source": [
    "normalized_df.drop(columns=['Total Fwd Packets', 'Bwd Header Length'], inplace=True)\n",
    "y = normalized_df['Label_encoded']\n",
    "X = normalized_df.drop(columns=['Label_encoded'])\n",
    "Xtrain, Xtest, ytrain, ytest = train_test_split(X, y, test_size=0.20, random_state=42)\n",
    "\n",
    "tree_classifier_7 = DecisionTreeClassifier(max_depth=25, max_leaf_nodes=25, random_state=42, criterion='gini')\n",
    "tree_classifier_7.fit(Xtrain, ytrain)\n",
    "\n",
    "ypred = tree_classifier_7.predict(Xtest)\n",
    "tree_acc_7 = accuracy_score(ytest, ypred)\n",
    "print(f'Accuracy: {tree_acc_7}')\n",
    "\n",
    "tree_feature_importances = pd.DataFrame(tree_classifier_7.feature_importances_, index = Xtrain.columns, columns=['importance']).sort_values('importance', ascending=False)\n",
    "print(tree_feature_importances)"
   ]
  },
  {
   "cell_type": "code",
   "execution_count": 19,
   "metadata": {},
   "outputs": [
    {
     "data": {
      "text/plain": [
       "Index(['Flow Duration', 'Total Backward Packets',\n",
       "       'Total Length of Bwd Packets', 'Fwd Packet Length Min',\n",
       "       'Bwd Packet Length Max', 'Bwd Packet Length Min',\n",
       "       'Bwd Packet Length Mean', 'Bwd Packet Length Std', 'Flow Bytes/s',\n",
       "       'Flow Packets/s', 'Flow IAT Mean', 'Flow IAT Std', 'Flow IAT Max',\n",
       "       'Flow IAT Min', 'Fwd IAT Total', 'Fwd IAT Mean', 'Fwd IAT Std',\n",
       "       'Fwd IAT Max', 'Fwd IAT Min', 'Bwd IAT Total', 'Bwd IAT Mean',\n",
       "       'Bwd IAT Std', 'Bwd IAT Max', 'Bwd IAT Min', 'Fwd PSH Flags',\n",
       "       'Bwd PSH Flags', 'Fwd URG Flags', 'Bwd URG Flags', 'Fwd Header Length',\n",
       "       'Fwd Packets/s', 'Bwd Packets/s', 'Min Packet Length',\n",
       "       'Max Packet Length', 'Packet Length Mean', 'Packet Length Std',\n",
       "       'Packet Length Variance', 'FIN Flag Count', 'SYN Flag Count',\n",
       "       'RST Flag Count', 'PSH Flag Count', 'ACK Flag Count', 'URG Flag Count',\n",
       "       'CWE Flag Count', 'ECE Flag Count', 'Down/Up Ratio',\n",
       "       'Average Packet Size', 'Avg Bwd Segment Size', 'Fwd Header Length.1',\n",
       "       'Fwd Avg Bytes/Bulk', 'Fwd Avg Packets/Bulk', 'Fwd Avg Bulk Rate',\n",
       "       'Bwd Avg Bytes/Bulk', 'Bwd Avg Packets/Bulk', 'Bwd Avg Bulk Rate',\n",
       "       'Subflow Bwd Packets', 'Subflow Bwd Bytes', 'min_seg_size_forward',\n",
       "       'Active Mean', 'Active Std', 'Active Max', 'Active Min', 'Idle Mean',\n",
       "       'Idle Std', 'Idle Max', 'Idle Min', 'Label_encoded'],\n",
       "      dtype='object')"
      ]
     },
     "execution_count": 19,
     "metadata": {},
     "output_type": "execute_result"
    }
   ],
   "source": [
    "normalized_df.columns"
   ]
  },
  {
   "cell_type": "code",
   "execution_count": 20,
   "metadata": {},
   "outputs": [
    {
     "name": "stdout",
     "output_type": "stream",
     "text": [
      "Accuracy: 0.997363932392619\n",
      "                        importance\n",
      "Fwd Header Length         0.451560\n",
      "Subflow Bwd Packets       0.219424\n",
      "PSH Flag Count            0.103254\n",
      "min_seg_size_forward      0.088668\n",
      "Min Packet Length         0.044515\n",
      "Fwd Header Length.1       0.024922\n",
      "Avg Bwd Segment Size      0.023813\n",
      "Fwd IAT Min               0.019411\n",
      "SYN Flag Count            0.012072\n",
      "Fwd PSH Flags             0.004526\n",
      "Subflow Bwd Bytes         0.003273\n",
      "URG Flag Count            0.001133\n",
      "Fwd Packets/s             0.001091\n",
      "Bwd IAT Min               0.000820\n",
      "Bwd IAT Total             0.000790\n",
      "Active Mean               0.000306\n",
      "Flow IAT Min              0.000234\n",
      "Fwd IAT Std               0.000187\n",
      "Fwd Avg Bytes/Bulk        0.000000\n",
      "ECE Flag Count            0.000000\n",
      "Idle Max                  0.000000\n",
      "Down/Up Ratio             0.000000\n",
      "Idle Std                  0.000000\n",
      "Average Packet Size       0.000000\n",
      "Idle Mean                 0.000000\n",
      "Active Min                0.000000\n",
      "Fwd Avg Bulk Rate         0.000000\n",
      "Fwd Avg Packets/Bulk      0.000000\n",
      "Active Max                0.000000\n",
      "Bwd Avg Bytes/Bulk        0.000000\n",
      "Bwd Avg Packets/Bulk      0.000000\n",
      "Bwd Avg Bulk Rate         0.000000\n",
      "CWE Flag Count            0.000000\n",
      "Active Std                0.000000\n",
      "Flow Duration             0.000000\n",
      "FIN Flag Count            0.000000\n",
      "ACK Flag Count            0.000000\n",
      "RST Flag Count            0.000000\n",
      "Flow Packets/s            0.000000\n",
      "Flow IAT Mean             0.000000\n",
      "Flow IAT Std              0.000000\n",
      "Flow IAT Max              0.000000\n",
      "Fwd IAT Total             0.000000\n",
      "Fwd IAT Mean              0.000000\n",
      "Fwd IAT Max               0.000000\n",
      "Bwd IAT Mean              0.000000\n",
      "Bwd IAT Std               0.000000\n",
      "Bwd IAT Max               0.000000\n",
      "Bwd PSH Flags             0.000000\n",
      "Fwd URG Flags             0.000000\n",
      "Bwd URG Flags             0.000000\n",
      "Bwd Packets/s             0.000000\n",
      "Max Packet Length         0.000000\n",
      "Packet Length Mean        0.000000\n",
      "Packet Length Std         0.000000\n",
      "Packet Length Variance    0.000000\n",
      "Flow Bytes/s              0.000000\n",
      "Idle Min                  0.000000\n"
     ]
    }
   ],
   "source": [
    "drop_columns = ['Total Backward Packets',\n",
    "       'Total Length of Bwd Packets', 'Fwd Packet Length Min',\n",
    "       'Bwd Packet Length Max', 'Bwd Packet Length Min',\n",
    "       'Bwd Packet Length Mean', 'Bwd Packet Length Std']\n",
    "\n",
    "normalized_df.drop(columns=drop_columns, inplace=True)\n",
    "\n",
    "y = normalized_df['Label_encoded']\n",
    "X = normalized_df.drop(columns=['Label_encoded'])\n",
    "Xtrain, Xtest, ytrain, ytest = train_test_split(X, y, test_size=0.20, random_state=42)\n",
    "\n",
    "tree_classifier_8 = DecisionTreeClassifier(max_depth=25, max_leaf_nodes=25, random_state=42, criterion='gini')\n",
    "tree_classifier_8.fit(Xtrain, ytrain)\n",
    "\n",
    "ypred = tree_classifier_8.predict(Xtest)\n",
    "tree_acc_8 = accuracy_score(ytest, ypred)\n",
    "print(f'Accuracy: {tree_acc_8}')\n",
    "\n",
    "tree_feature_importances = pd.DataFrame(tree_classifier_8.feature_importances_, index = Xtrain.columns, columns=['importance']).sort_values('importance', ascending=False)\n",
    "print(tree_feature_importances)"
   ]
  },
  {
   "cell_type": "code",
   "execution_count": 21,
   "metadata": {},
   "outputs": [
    {
     "name": "stdout",
     "output_type": "stream",
     "text": [
      "Accuracy: 0.9968987439913165\n",
      "                        importance\n",
      "Average Packet Size       0.312822\n",
      "Fwd IAT Std               0.302856\n",
      "Packet Length Std         0.215708\n",
      "Bwd IAT Mean              0.080782\n",
      "Bwd IAT Total             0.056741\n",
      "Down/Up Ratio             0.022584\n",
      "Packet Length Variance    0.005285\n",
      "Idle Mean                 0.002208\n",
      "URG Flag Count            0.000476\n",
      "Bwd Packets/s             0.000315\n",
      "Fwd IAT Total             0.000223\n",
      "Fwd Avg Bytes/Bulk        0.000000\n",
      "ECE Flag Count            0.000000\n",
      "Fwd Avg Bulk Rate         0.000000\n",
      "CWE Flag Count            0.000000\n",
      "ACK Flag Count            0.000000\n",
      "Fwd Avg Packets/Bulk      0.000000\n",
      "Bwd Avg Bulk Rate         0.000000\n",
      "Bwd Avg Bytes/Bulk        0.000000\n",
      "Bwd Avg Packets/Bulk      0.000000\n",
      "RST Flag Count            0.000000\n",
      "min_seg_size_forward      0.000000\n",
      "Active Mean               0.000000\n",
      "Active Std                0.000000\n",
      "Active Max                0.000000\n",
      "Active Min                0.000000\n",
      "Idle Std                  0.000000\n",
      "Idle Max                  0.000000\n",
      "PSH Flag Count            0.000000\n",
      "Flow Duration             0.000000\n",
      "SYN Flag Count            0.000000\n",
      "Bwd IAT Max               0.000000\n",
      "Flow Packets/s            0.000000\n",
      "Flow IAT Mean             0.000000\n",
      "Flow IAT Std              0.000000\n",
      "Flow IAT Max              0.000000\n",
      "Flow IAT Min              0.000000\n",
      "Fwd IAT Mean              0.000000\n",
      "Fwd IAT Max               0.000000\n",
      "Fwd IAT Min               0.000000\n",
      "Bwd IAT Std               0.000000\n",
      "Bwd IAT Min               0.000000\n",
      "FIN Flag Count            0.000000\n",
      "Fwd PSH Flags             0.000000\n",
      "Bwd PSH Flags             0.000000\n",
      "Fwd URG Flags             0.000000\n",
      "Bwd URG Flags             0.000000\n",
      "Fwd Packets/s             0.000000\n",
      "Min Packet Length         0.000000\n",
      "Max Packet Length         0.000000\n",
      "Packet Length Mean        0.000000\n",
      "Flow Bytes/s              0.000000\n",
      "Idle Min                  0.000000\n"
     ]
    }
   ],
   "source": [
    "normalized_df.drop(columns=['Fwd Header Length', 'Fwd Header Length.1', 'Subflow Bwd Packets', 'Avg Bwd Segment Size', 'Subflow Bwd Bytes'], inplace=True)\n",
    "\n",
    "y = normalized_df['Label_encoded']\n",
    "X = normalized_df.drop(columns=['Label_encoded'])\n",
    "Xtrain, Xtest, ytrain, ytest = train_test_split(X, y, test_size=0.20, random_state=42)\n",
    "\n",
    "tree_classifier_9 = DecisionTreeClassifier(max_depth=25, max_leaf_nodes=25, random_state=42, criterion='gini')\n",
    "tree_classifier_9.fit(Xtrain, ytrain)\n",
    "\n",
    "ypred = tree_classifier_9.predict(Xtest)\n",
    "tree_acc_9 = accuracy_score(ytest, ypred)\n",
    "print(f'Accuracy: {tree_acc_9}')\n",
    "\n",
    "tree_feature_importances = pd.DataFrame(tree_classifier_9.feature_importances_, index = Xtrain.columns, columns=['importance']).sort_values('importance', ascending=False)\n",
    "print(tree_feature_importances)"
   ]
  },
  {
   "cell_type": "code",
   "execution_count": 22,
   "metadata": {},
   "outputs": [
    {
     "data": {
      "text/plain": [
       "Index(['Flow Duration', 'Flow Bytes/s', 'Flow Packets/s', 'Flow IAT Mean',\n",
       "       'Flow IAT Std', 'Flow IAT Max', 'Flow IAT Min', 'Fwd IAT Total',\n",
       "       'Fwd IAT Mean', 'Fwd IAT Std', 'Fwd IAT Max', 'Fwd IAT Min',\n",
       "       'Bwd IAT Total', 'Bwd IAT Mean', 'Bwd IAT Std', 'Bwd IAT Max',\n",
       "       'Bwd IAT Min', 'Fwd PSH Flags', 'Bwd PSH Flags', 'Fwd URG Flags',\n",
       "       'Bwd URG Flags', 'Fwd Packets/s', 'Bwd Packets/s', 'Min Packet Length',\n",
       "       'Max Packet Length', 'Packet Length Mean', 'Packet Length Std',\n",
       "       'Packet Length Variance', 'FIN Flag Count', 'SYN Flag Count',\n",
       "       'RST Flag Count', 'PSH Flag Count', 'ACK Flag Count', 'URG Flag Count',\n",
       "       'CWE Flag Count', 'ECE Flag Count', 'Down/Up Ratio',\n",
       "       'Average Packet Size', 'Fwd Avg Bytes/Bulk', 'Fwd Avg Packets/Bulk',\n",
       "       'Fwd Avg Bulk Rate', 'Bwd Avg Bytes/Bulk', 'Bwd Avg Packets/Bulk',\n",
       "       'Bwd Avg Bulk Rate', 'min_seg_size_forward', 'Active Mean',\n",
       "       'Active Std', 'Active Max', 'Active Min', 'Idle Mean', 'Idle Std',\n",
       "       'Idle Max', 'Idle Min', 'Label_encoded'],\n",
       "      dtype='object')"
      ]
     },
     "execution_count": 22,
     "metadata": {},
     "output_type": "execute_result"
    }
   ],
   "source": [
    "normalized_df.columns"
   ]
  },
  {
   "cell_type": "code",
   "execution_count": 23,
   "metadata": {},
   "outputs": [
    {
     "name": "stdout",
     "output_type": "stream",
     "text": [
      "Accuracy: 0.9970759586203841\n",
      "                        importance\n",
      "Packet Length Variance    0.435727\n",
      "Fwd IAT Max               0.307461\n",
      "Bwd IAT Max               0.208419\n",
      "Fwd IAT Min               0.033156\n",
      "Fwd IAT Mean              0.008085\n",
      "Flow Packets/s            0.001877\n",
      "ACK Flag Count            0.001546\n",
      "Bwd Packets/s             0.001192\n",
      "Min Packet Length         0.001010\n",
      "Bwd IAT Std               0.000732\n",
      "PSH Flag Count            0.000563\n",
      "FIN Flag Count            0.000232\n",
      "Bwd Avg Packets/Bulk      0.000000\n",
      "Fwd Avg Packets/Bulk      0.000000\n",
      "Fwd Avg Bytes/Bulk        0.000000\n",
      "Fwd Avg Bulk Rate         0.000000\n",
      "Bwd Avg Bytes/Bulk        0.000000\n",
      "Active Mean               0.000000\n",
      "Bwd Avg Bulk Rate         0.000000\n",
      "min_seg_size_forward      0.000000\n",
      "CWE Flag Count            0.000000\n",
      "Active Std                0.000000\n",
      "Active Max                0.000000\n",
      "Active Min                0.000000\n",
      "Idle Mean                 0.000000\n",
      "Idle Std                  0.000000\n",
      "Idle Max                  0.000000\n",
      "ECE Flag Count            0.000000\n",
      "Flow Duration             0.000000\n",
      "URG Flag Count            0.000000\n",
      "RST Flag Count            0.000000\n",
      "SYN Flag Count            0.000000\n",
      "Flow Bytes/s              0.000000\n",
      "Max Packet Length         0.000000\n",
      "Fwd Packets/s             0.000000\n",
      "Bwd URG Flags             0.000000\n",
      "Fwd URG Flags             0.000000\n",
      "Bwd PSH Flags             0.000000\n",
      "Fwd PSH Flags             0.000000\n",
      "Bwd IAT Min               0.000000\n",
      "Bwd IAT Mean              0.000000\n",
      "Flow IAT Min              0.000000\n",
      "Flow IAT Max              0.000000\n",
      "Flow IAT Mean             0.000000\n",
      "Idle Min                  0.000000\n"
     ]
    }
   ],
   "source": [
    "#Average Packet Size       0.312822\n",
    "#Fwd IAT Std               0.302856\n",
    "#Packet Length Std         0.215708\n",
    "normalized_df.drop(columns=['Average Packet Size', 'Fwd IAT Std', 'Packet Length Std', 'Packet Length Mean', 'Down/Up Ratio', 'Bwd IAT Total', \"Flow IAT Std\", 'Fwd IAT Total'], inplace=True)\n",
    "\n",
    "y = normalized_df['Label_encoded']\n",
    "X = normalized_df.drop(columns=['Label_encoded'])\n",
    "Xtrain, Xtest, ytrain, ytest = train_test_split(X, y, test_size=0.20, random_state=42)\n",
    "\n",
    "tree_classifier_10 = DecisionTreeClassifier(max_depth=25, max_leaf_nodes=25, random_state=42, criterion='gini')\n",
    "tree_classifier_10.fit(Xtrain, ytrain)\n",
    "\n",
    "ypred = tree_classifier_10.predict(Xtest)\n",
    "tree_acc_10 = accuracy_score(ytest, ypred)\n",
    "print(f'Accuracy: {tree_acc_10}')\n",
    "\n",
    "tree_feature_importances = pd.DataFrame(tree_classifier_10.feature_importances_, index = Xtrain.columns, columns=['importance']).sort_values('importance', ascending=False)\n",
    "print(tree_feature_importances)"
   ]
  },
  {
   "cell_type": "code",
   "execution_count": 24,
   "metadata": {},
   "outputs": [
    {
     "name": "stdout",
     "output_type": "stream",
     "text": [
      "Accuracy: 0.951952683694039\n",
      "                      importance\n",
      "Fwd Packets/s           0.222623\n",
      "Active Max              0.154373\n",
      "min_seg_size_forward    0.140633\n",
      "Bwd Packets/s           0.124249\n",
      "Flow IAT Min            0.081411\n",
      "Idle Mean               0.072782\n",
      "Flow IAT Mean           0.057089\n",
      "PSH Flag Count          0.044957\n",
      "ACK Flag Count          0.035329\n",
      "Fwd PSH Flags           0.033959\n",
      "Flow Duration           0.030756\n",
      "Active Min              0.001839\n",
      "Bwd URG Flags           0.000000\n",
      "Fwd URG Flags           0.000000\n",
      "Idle Max                0.000000\n",
      "Idle Std                0.000000\n",
      "Flow Packets/s          0.000000\n",
      "Flow IAT Max            0.000000\n",
      "Active Std              0.000000\n",
      "Active Mean             0.000000\n",
      "Bwd IAT Min             0.000000\n",
      "Bwd Avg Bulk Rate       0.000000\n",
      "Bwd Avg Packets/Bulk    0.000000\n",
      "Bwd Avg Bytes/Bulk      0.000000\n",
      "Fwd Avg Bulk Rate       0.000000\n",
      "Fwd Avg Packets/Bulk    0.000000\n",
      "Fwd Avg Bytes/Bulk      0.000000\n",
      "ECE Flag Count          0.000000\n",
      "CWE Flag Count          0.000000\n",
      "Flow Bytes/s            0.000000\n",
      "Bwd PSH Flags           0.000000\n",
      "RST Flag Count          0.000000\n",
      "SYN Flag Count          0.000000\n",
      "FIN Flag Count          0.000000\n",
      "Idle Min                0.000000\n"
     ]
    }
   ],
   "source": [
    "# Packet Length Variance    0.435727\n",
    "# Fwd IAT Max               0.307461\n",
    "# Bwd IAT Max               0.208419\n",
    "# Fwd IAT Min               0.033156\n",
    "# Fwd IAT Mean              0.008085\n",
    "\n",
    "drop_columns = ['Packet Length Variance', 'Fwd IAT Max', 'Bwd IAT Max', 'Fwd IAT Min', 'Fwd IAT Mean', 'Max Packet Length', 'Bwd IAT Std', 'URG Flag Count', 'Bwd IAT Mean', \n",
    "                'Min Packet Length']\n",
    "normalized_df.drop(columns=drop_columns, inplace=True)\n",
    "y = normalized_df['Label_encoded']\n",
    "X = normalized_df.drop(columns=['Label_encoded'])\n",
    "Xtrain, Xtest, ytrain, ytest = train_test_split(X, y, test_size=0.20, random_state=42)\n",
    "\n",
    "tree_classifier_11 = DecisionTreeClassifier(max_depth=25, max_leaf_nodes=25, random_state=42, criterion='gini')\n",
    "tree_classifier_11.fit(Xtrain, ytrain)\n",
    "\n",
    "ypred = tree_classifier_11.predict(Xtest)\n",
    "tree_acc_11 = accuracy_score(ytest, ypred)\n",
    "print(f'Accuracy: {tree_acc_11}')\n",
    "\n",
    "tree_feature_importances = pd.DataFrame(tree_classifier_11.feature_importances_, index = Xtrain.columns, columns=['importance']).sort_values('importance', ascending=False)\n",
    "print(tree_feature_importances)"
   ]
  },
  {
   "cell_type": "code",
   "execution_count": 25,
   "metadata": {},
   "outputs": [
    {
     "name": "stdout",
     "output_type": "stream",
     "text": [
      "Accuracy: 0.6414948053961854\n",
      "                      importance\n",
      "SYN Flag Count          0.332176\n",
      "Idle Max                0.254301\n",
      "Active Std              0.252492\n",
      "Bwd IAT Min             0.124185\n",
      "FIN Flag Count          0.019095\n",
      "Idle Min                0.017751\n",
      "RST Flag Count          0.000000\n",
      "CWE Flag Count          0.000000\n",
      "ECE Flag Count          0.000000\n",
      "Bwd PSH Flags           0.000000\n",
      "Fwd Avg Packets/Bulk    0.000000\n",
      "Fwd Avg Bulk Rate       0.000000\n",
      "Bwd Avg Bytes/Bulk      0.000000\n",
      "Bwd Avg Packets/Bulk    0.000000\n",
      "Bwd Avg Bulk Rate       0.000000\n",
      "Bwd URG Flags           0.000000\n",
      "Idle Std                0.000000\n",
      "Fwd URG Flags           0.000000\n",
      "Fwd Avg Bytes/Bulk      0.000000\n"
     ]
    }
   ],
   "source": [
    "# Fwd Packets/s           0.222623\n",
    "# Active Max              0.154373\n",
    "# min_seg_size_forward    0.140633\n",
    "# Bwd Packets/s           0.124249\n",
    "# Flow IAT Min            0.081411\n",
    "# Idle Mean               0.072782\n",
    "# Flow IAT Mean           0.057089\n",
    "# PSH Flag Count          0.044957\n",
    "# ACK Flag Count          0.035329\n",
    "# Fwd PSH Flags           0.033959\n",
    "# Flow Duration           0.030756\n",
    "# Active Min              0.001839\n",
    "drop_columns = ['Fwd Packets/s', 'Active Max', 'min_seg_size_forward', 'Bwd Packets/s', 'Flow IAT Min', 'Idle Mean', 'Flow IAT Mean',\n",
    "                'PSH Flag Count', 'ACK Flag Count', 'Fwd PSH Flags', 'Flow Duration', 'Active Min', 'Flow IAT Max', 'Flow Bytes/s',\n",
    "                'Active Mean', 'Flow Packets/s']\n",
    "\n",
    "normalized_df.drop(columns=drop_columns, inplace=True)\n",
    "y = normalized_df['Label_encoded']\n",
    "X = normalized_df.drop(columns=['Label_encoded'])\n",
    "Xtrain, Xtest, ytrain, ytest = train_test_split(X, y, test_size=0.20, random_state=42)\n",
    "\n",
    "tree_classifier_12 = DecisionTreeClassifier(max_depth=25, max_leaf_nodes=25, random_state=42, criterion='gini')\n",
    "tree_classifier_12.fit(Xtrain, ytrain)\n",
    "\n",
    "ypred = tree_classifier_12.predict(Xtest)\n",
    "tree_acc_12 = accuracy_score(ytest, ypred)\n",
    "print(f'Accuracy: {tree_acc_12}')\n",
    "\n",
    "tree_feature_importances = pd.DataFrame(tree_classifier_12.feature_importances_, index = Xtrain.columns, columns=['importance']).sort_values('importance', ascending=False)\n",
    "print(tree_feature_importances)"
   ]
  },
  {
   "cell_type": "markdown",
   "metadata": {},
   "source": [
    "## Features Dropped and Accuracy\n",
    "At this point, with the features above being dropped, my accuracy dropped from over 90% to 64%.\n",
    "Likely, we are now unable to accurately predict models, as too many important features have been dropped."
   ]
  },
  {
   "cell_type": "code",
   "execution_count": 26,
   "metadata": {},
   "outputs": [
    {
     "data": {
      "text/plain": [
       "20"
      ]
     },
     "execution_count": 26,
     "metadata": {},
     "output_type": "execute_result"
    }
   ],
   "source": [
    "len(normalized_df.columns)"
   ]
  },
  {
   "cell_type": "code",
   "execution_count": 27,
   "metadata": {},
   "outputs": [
    {
     "name": "stdout",
     "output_type": "stream",
     "text": [
      "0.65582703852203\n"
     ]
    }
   ],
   "source": [
    "from sklearn.ensemble import RandomForestClassifier\n",
    "forest = RandomForestClassifier()\n",
    "y = normalized_df['Label_encoded']\n",
    "X = normalized_df.drop(columns=['Label_encoded'])\n",
    "Xtrain, Xtest, ytrain, ytest = train_test_split(X, y, test_size=0.20, random_state=42)\n",
    "\n",
    "forest.fit(Xtrain, ytrain)\n",
    "ypred = forest.predict(Xtest)\n",
    "print(accuracy_score(ytest, ypred))"
   ]
  },
  {
   "cell_type": "code",
   "execution_count": 28,
   "metadata": {},
   "outputs": [
    {
     "name": "stdout",
     "output_type": "stream",
     "text": [
      "                      importance\n",
      "SYN Flag Count          0.248951\n",
      "Bwd IAT Min             0.178314\n",
      "Idle Min                0.177955\n",
      "Idle Max                0.162024\n",
      "Active Std              0.155614\n",
      "Idle Std                0.061730\n",
      "FIN Flag Count          0.014631\n",
      "ECE Flag Count          0.000411\n",
      "RST Flag Count          0.000371\n",
      "Bwd URG Flags           0.000000\n",
      "Fwd URG Flags           0.000000\n",
      "CWE Flag Count          0.000000\n",
      "Bwd PSH Flags           0.000000\n",
      "Fwd Avg Packets/Bulk    0.000000\n",
      "Fwd Avg Bulk Rate       0.000000\n",
      "Bwd Avg Bytes/Bulk      0.000000\n",
      "Bwd Avg Packets/Bulk    0.000000\n",
      "Bwd Avg Bulk Rate       0.000000\n",
      "Fwd Avg Bytes/Bulk      0.000000\n"
     ]
    }
   ],
   "source": [
    "forest_importances = pd.DataFrame(forest.feature_importances_, index = Xtrain.columns, columns=['importance']).sort_values('importance', ascending=False)\n",
    "print(forest_importances)"
   ]
  },
  {
   "cell_type": "code",
   "execution_count": 29,
   "metadata": {},
   "outputs": [
    {
     "data": {
      "text/plain": [
       "<sklearn.metrics._plot.confusion_matrix.ConfusionMatrixDisplay at 0x1942c029b90>"
      ]
     },
     "execution_count": 29,
     "metadata": {},
     "output_type": "execute_result"
    },
    {
     "data": {
      "image/png": "[encoded data removed]",
      "text/plain": [
       "<Figure size 640x480 with 2 Axes>"
      ]
     },
     "metadata": {},
     "output_type": "display_data"
    }
   ],
   "source": [
    "from sklearn.metrics import ConfusionMatrixDisplay, confusion_matrix\n",
    "\n",
    "matrix = confusion_matrix(ytest, ypred)\n",
    "cm = ConfusionMatrixDisplay(confusion_matrix=matrix)\n",
    "cm.plot()"
   ]
  },
  {
   "cell_type": "code",
   "execution_count": 30,
   "metadata": {},
   "outputs": [
    {
     "data": {
      "text/html": [
       "<style>#sk-container-id-2 {color: black;background-color: white;}#sk-container-id-2 pre{padding: 0;}#sk-container-id-2 div.sk-toggleable {background-color: white;}#sk-container-id-2 label.sk-toggleable__label {cursor: pointer;display: block;width: 100%;margin-bottom: 0;padding: 0.3em;box-sizing: border-box;text-align: center;}#sk-container-id-2 label.sk-toggleable__label-arrow:before {content: \"▸\";float: left;margin-right: 0.25em;color: #696969;}#sk-container-id-2 label.sk-toggleable__label-arrow:hover:before {color: black;}#sk-container-id-2 div.sk-estimator:hover label.sk-toggleable__label-arrow:before {color: black;}#sk-container-id-2 div.sk-toggleable__content {max-height: 0;max-width: 0;overflow: hidden;text-align: left;background-color: #f0f8ff;}#sk-container-id-2 div.sk-toggleable__content pre {margin: 0.2em;color: black;border-radius: 0.25em;background-color: #f0f8ff;}#sk-container-id-2 input.sk-toggleable__control:checked~div.sk-toggleable__content {max-height: 200px;max-width: 100%;overflow: auto;}#sk-container-id-2 input.sk-toggleable__control:checked~label.sk-toggleable__label-arrow:before {content: \"▾\";}#sk-container-id-2 div.sk-estimator input.sk-toggleable__control:checked~label.sk-toggleable__label {background-color: #d4ebff;}#sk-container-id-2 div.sk-label input.sk-toggleable__control:checked~label.sk-toggleable__label {background-color: #d4ebff;}#sk-container-id-2 input.sk-hidden--visually {border: 0;clip: rect(1px 1px 1px 1px);clip: rect(1px, 1px, 1px, 1px);height: 1px;margin: -1px;overflow: hidden;padding: 0;position: absolute;width: 1px;}#sk-container-id-2 div.sk-estimator {font-family: monospace;background-color: #f0f8ff;border: 1px dotted black;border-radius: 0.25em;box-sizing: border-box;margin-bottom: 0.5em;}#sk-container-id-2 div.sk-estimator:hover {background-color: #d4ebff;}#sk-container-id-2 div.sk-parallel-item::after {content: \"\";width: 100%;border-bottom: 1px solid gray;flex-grow: 1;}#sk-container-id-2 div.sk-label:hover label.sk-toggleable__label {background-color: #d4ebff;}#sk-container-id-2 div.sk-serial::before {content: \"\";position: absolute;border-left: 1px solid gray;box-sizing: border-box;top: 0;bottom: 0;left: 50%;z-index: 0;}#sk-container-id-2 div.sk-serial {display: flex;flex-direction: column;align-items: center;background-color: white;padding-right: 0.2em;padding-left: 0.2em;position: relative;}#sk-container-id-2 div.sk-item {position: relative;z-index: 1;}#sk-container-id-2 div.sk-parallel {display: flex;align-items: stretch;justify-content: center;background-color: white;position: relative;}#sk-container-id-2 div.sk-item::before, #sk-container-id-2 div.sk-parallel-item::before {content: \"\";position: absolute;border-left: 1px solid gray;box-sizing: border-box;top: 0;bottom: 0;left: 50%;z-index: -1;}#sk-container-id-2 div.sk-parallel-item {display: flex;flex-direction: column;z-index: 1;position: relative;background-color: white;}#sk-container-id-2 div.sk-parallel-item:first-child::after {align-self: flex-end;width: 50%;}#sk-container-id-2 div.sk-parallel-item:last-child::after {align-self: flex-start;width: 50%;}#sk-container-id-2 div.sk-parallel-item:only-child::after {width: 0;}#sk-container-id-2 div.sk-dashed-wrapped {border: 1px dashed gray;margin: 0 0.4em 0.5em 0.4em;box-sizing: border-box;padding-bottom: 0.4em;background-color: white;}#sk-container-id-2 div.sk-label label {font-family: monospace;font-weight: bold;display: inline-block;line-height: 1.2em;}#sk-container-id-2 div.sk-label-container {text-align: center;}#sk-container-id-2 div.sk-container {/* jupyter's `normalize.less` sets `[hidden] { display: none; }` but bootstrap.min.css set `[hidden] { display: none !important; }` so we also need the `!important` here to be able to override the default hidden behavior on the sphinx rendered scikit-learn.org. See: https://github.com/scikit-learn/scikit-learn/issues/21755 */display: inline-block !important;position: relative;}#sk-container-id-2 div.sk-text-repr-fallback {display: none;}</style><div id=\"sk-container-id-2\" class=\"sk-top-container\"><div class=\"sk-text-repr-fallback\"><pre>RandomForestClassifier(class_weight=&#x27;balanced&#x27;, n_estimators=500)</pre><b>In a Jupyter environment, please rerun this cell to show the HTML representation or trust the notebook. <br />On GitHub, the HTML representation is unable to render, please try loading this page with nbviewer.org.</b></div><div class=\"sk-container\" hidden><div class=\"sk-item\"><div class=\"sk-estimator sk-toggleable\"><input class=\"sk-toggleable__control sk-hidden--visually\" id=\"sk-estimator-id-2\" type=\"checkbox\" checked><label for=\"sk-estimator-id-2\" class=\"sk-toggleable__label sk-toggleable__label-arrow\">RandomForestClassifier</label><div class=\"sk-toggleable__content\"><pre>RandomForestClassifier(class_weight=&#x27;balanced&#x27;, n_estimators=500)</pre></div></div></div></div></div>"
      ],
      "text/plain": [
       "RandomForestClassifier(class_weight='balanced', n_estimators=500)"
      ]
     },
     "execution_count": 30,
     "metadata": {},
     "output_type": "execute_result"
    }
   ],
   "source": [
    "forest_2 = RandomForestClassifier(n_estimators=500, criterion='gini', class_weight='balanced')\n",
    "y = normalized_df['Label_encoded']\n",
    "X = normalized_df.drop(columns=['Label_encoded'])\n",
    "Xtrain, Xtest, ytrain, ytest = train_test_split(X, y, test_size=0.20, random_state=42)\n",
    "\n",
    "forest_2.fit(Xtrain, ytrain)\n",
    "#ypred = forest.predict(Xtest)\n",
    "#print(accuracy_score(ytest, ypred))"
   ]
  },
  {
   "cell_type": "code",
   "execution_count": 31,
   "metadata": {},
   "outputs": [
    {
     "name": "stdout",
     "output_type": "stream",
     "text": [
      "0.5972132999579115\n"
     ]
    }
   ],
   "source": [
    "ypred = forest_2.predict(Xtest)\n",
    "print(accuracy_score(ytest, ypred))"
   ]
  },
  {
   "cell_type": "markdown",
   "metadata": {},
   "source": [
    "## Accuracy did not improve\n",
    "By trying to tighten the model, things seem to have gotten worse. We'll need to reintroduce some features.\n",
    "\n",
    "```Reintroduce any column labeled IAT```"
   ]
  },
  {
   "cell_type": "code",
   "execution_count": 32,
   "metadata": {},
   "outputs": [
    {
     "name": "stdout",
     "output_type": "stream",
     "text": [
      "Index(['Bwd IAT Min', 'Bwd PSH Flags', 'Fwd URG Flags', 'Bwd URG Flags',\n",
      "       'FIN Flag Count', 'SYN Flag Count', 'RST Flag Count', 'CWE Flag Count',\n",
      "       'ECE Flag Count', 'Fwd Avg Bytes/Bulk', 'Fwd Avg Packets/Bulk',\n",
      "       'Fwd Avg Bulk Rate', 'Bwd Avg Bytes/Bulk', 'Bwd Avg Packets/Bulk',\n",
      "       'Bwd Avg Bulk Rate', 'Active Std', 'Idle Std', 'Idle Max', 'Idle Min',\n",
      "       'Label_encoded'],\n",
      "      dtype='object')\n"
     ]
    },
    {
     "data": {
      "text/plain": [
       "(225711, 20)"
      ]
     },
     "execution_count": 32,
     "metadata": {},
     "output_type": "execute_result"
    }
   ],
   "source": [
    "print(normalized_df.columns)\n",
    "normalized_df.shape"
   ]
  },
  {
   "cell_type": "code",
   "execution_count": 33,
   "metadata": {},
   "outputs": [
    {
     "name": "stdout",
     "output_type": "stream",
     "text": [
      "Index(['Flow Duration', 'Total Fwd Packets', 'Total Backward Packets',\n",
      "       'Total Length of Fwd Packets', 'Total Length of Bwd Packets',\n",
      "       'Fwd Packet Length Max', 'Fwd Packet Length Min',\n",
      "       'Fwd Packet Length Mean', 'Fwd Packet Length Std',\n",
      "       'Bwd Packet Length Max', 'Bwd Packet Length Min',\n",
      "       'Bwd Packet Length Mean', 'Bwd Packet Length Std', 'Flow Bytes/s',\n",
      "       'Flow Packets/s', 'Flow IAT Mean', 'Flow IAT Std', 'Flow IAT Max',\n",
      "       'Flow IAT Min', 'Fwd IAT Total', 'Fwd IAT Mean', 'Fwd IAT Std',\n",
      "       'Fwd IAT Max', 'Fwd IAT Min', 'Bwd IAT Total', 'Bwd IAT Mean',\n",
      "       'Bwd IAT Std', 'Bwd IAT Max', 'Bwd IAT Min', 'Fwd PSH Flags',\n",
      "       'Bwd PSH Flags', 'Fwd URG Flags', 'Bwd URG Flags', 'Fwd Header Length',\n",
      "       'Bwd Header Length', 'Fwd Packets/s', 'Bwd Packets/s',\n",
      "       'Min Packet Length', 'Max Packet Length', 'Packet Length Mean',\n",
      "       'Packet Length Std', 'Packet Length Variance', 'FIN Flag Count',\n",
      "       'SYN Flag Count', 'RST Flag Count', 'PSH Flag Count', 'ACK Flag Count',\n",
      "       'URG Flag Count', 'CWE Flag Count', 'ECE Flag Count', 'Down/Up Ratio',\n",
      "       'Average Packet Size', 'Avg Fwd Segment Size', 'Avg Bwd Segment Size',\n",
      "       'Fwd Header Length.1', 'Fwd Avg Bytes/Bulk', 'Fwd Avg Packets/Bulk',\n",
      "       'Fwd Avg Bulk Rate', 'Bwd Avg Bytes/Bulk', 'Bwd Avg Packets/Bulk',\n",
      "       'Bwd Avg Bulk Rate', 'Subflow Fwd Packets', 'Subflow Fwd Bytes',\n",
      "       'Subflow Bwd Packets', 'Subflow Bwd Bytes', 'Init_Win_bytes_forward',\n",
      "       'Init_Win_bytes_backward', 'act_data_pkt_fwd', 'min_seg_size_forward',\n",
      "       'Active Mean', 'Active Std', 'Active Max', 'Active Min', 'Idle Mean',\n",
      "       'Idle Std', 'Idle Max', 'Idle Min', 'Label_encoded'],\n",
      "      dtype='object')\n"
     ]
    },
    {
     "data": {
      "text/plain": [
       "(225711, 78)"
      ]
     },
     "execution_count": 33,
     "metadata": {},
     "output_type": "execute_result"
    }
   ],
   "source": [
    "print(original_normalized_df.columns)\n",
    "original_normalized_df.shape"
   ]
  },
  {
   "cell_type": "code",
   "execution_count": 34,
   "metadata": {},
   "outputs": [],
   "source": [
    "# 'Flow IAT Mean', 'Flow IAT Std', 'Flow IAT Max',\n",
    "#       'Flow IAT Min', 'Fwd IAT Total', 'Fwd IAT Mean', 'Fwd IAT Std',\n",
    "#       'Fwd IAT Max', 'Fwd IAT Min', 'Bwd IAT Total', 'Bwd IAT Mean',\n",
    "#       'Bwd IAT Std', 'Bwd IAT Max', 'Bwd IAT Min',\n",
    "\n",
    "normalized_df['Flow IAT Mean'] = original_normalized_df['Flow IAT Mean'] # Add one column and see what happens\n"
   ]
  },
  {
   "cell_type": "code",
   "execution_count": 35,
   "metadata": {},
   "outputs": [
    {
     "name": "stdout",
     "output_type": "stream",
     "text": [
      "Accuracy: 0.804598719624305\n",
      "                      importance\n",
      "Flow IAT Mean           0.638880\n",
      "SYN Flag Count          0.101293\n",
      "Active Std              0.095067\n",
      "Idle Min                0.082605\n",
      "Idle Max                0.043308\n",
      "Bwd IAT Min             0.038847\n",
      "RST Flag Count          0.000000\n",
      "CWE Flag Count          0.000000\n",
      "ECE Flag Count          0.000000\n",
      "Fwd Avg Bytes/Bulk      0.000000\n",
      "Bwd PSH Flags           0.000000\n",
      "Fwd Avg Bulk Rate       0.000000\n",
      "Bwd Avg Bytes/Bulk      0.000000\n",
      "Bwd Avg Packets/Bulk    0.000000\n",
      "Bwd Avg Bulk Rate       0.000000\n",
      "FIN Flag Count          0.000000\n",
      "Idle Std                0.000000\n",
      "Bwd URG Flags           0.000000\n",
      "Fwd URG Flags           0.000000\n",
      "Fwd Avg Packets/Bulk    0.000000\n"
     ]
    }
   ],
   "source": [
    "y = normalized_df['Label_encoded']\n",
    "X = normalized_df.drop(columns=['Label_encoded'])\n",
    "Xtrain, Xtest, ytrain, ytest = train_test_split(X, y, test_size=0.20, random_state=42)\n",
    "\n",
    "tree_classifier_13 = DecisionTreeClassifier(max_depth=25, max_leaf_nodes=25, random_state=42, criterion='gini')\n",
    "tree_classifier_13.fit(Xtrain, ytrain)\n",
    "\n",
    "ypred = tree_classifier_13.predict(Xtest)\n",
    "tree_acc_13 = accuracy_score(ytest, ypred)\n",
    "print(f'Accuracy: {tree_acc_13}')\n",
    "\n",
    "tree_feature_importances = pd.DataFrame(tree_classifier_13.feature_importances_, index = Xtrain.columns, columns=['importance']).sort_values('importance', ascending=False)\n",
    "print(tree_feature_importances)"
   ]
  },
  {
   "cell_type": "code",
   "execution_count": 36,
   "metadata": {},
   "outputs": [],
   "source": [
    "# 'Flow IAT Mean', 'Flow IAT Std', 'Flow IAT Max',\n",
    "#       'Flow IAT Min', 'Fwd IAT Total', 'Fwd IAT Mean', 'Fwd IAT Std',\n",
    "#       'Fwd IAT Max', 'Fwd IAT Min', 'Bwd IAT Total', 'Bwd IAT Mean',\n",
    "#       'Bwd IAT Std', 'Bwd IAT Max', 'Bwd IAT Min',\n",
    "\n",
    "normalized_df['Flow IAT Std'] = original_normalized_df['Flow IAT Std'] # Add one column and see what happens\n",
    "normalized_df['Flow IAT Max'] = original_normalized_df['Flow IAT Max'] # Add one column and see what happens\n",
    "normalized_df['Flow IAT Min'] = original_normalized_df['Flow IAT Min'] # Add one column and see what happens\n",
    "#normalized_df['Flow IAT Total'] = original_normalized_df['Flow IAT Total'] # Add one column and see what happens\n"
   ]
  },
  {
   "cell_type": "code",
   "execution_count": 37,
   "metadata": {},
   "outputs": [
    {
     "name": "stdout",
     "output_type": "stream",
     "text": [
      "Accuracy: 0.8830161929867311\n",
      "                      importance\n",
      "Flow IAT Std            0.437768\n",
      "Flow IAT Mean           0.215560\n",
      "Flow IAT Max            0.141087\n",
      "SYN Flag Count          0.085030\n",
      "Active Std              0.080515\n",
      "Bwd IAT Min             0.023307\n",
      "Idle Min                0.010250\n",
      "Idle Max                0.006482\n",
      "Bwd Avg Bytes/Bulk      0.000000\n",
      "Idle Std                0.000000\n",
      "Bwd Avg Bulk Rate       0.000000\n",
      "Bwd Avg Packets/Bulk    0.000000\n",
      "Fwd Avg Bulk Rate       0.000000\n",
      "Bwd PSH Flags           0.000000\n",
      "Fwd Avg Packets/Bulk    0.000000\n",
      "Fwd Avg Bytes/Bulk      0.000000\n",
      "ECE Flag Count          0.000000\n",
      "CWE Flag Count          0.000000\n",
      "RST Flag Count          0.000000\n",
      "FIN Flag Count          0.000000\n",
      "Bwd URG Flags           0.000000\n",
      "Fwd URG Flags           0.000000\n",
      "Flow IAT Min            0.000000\n"
     ]
    }
   ],
   "source": [
    "y = normalized_df['Label_encoded']\n",
    "X = normalized_df.drop(columns=['Label_encoded'])\n",
    "Xtrain, Xtest, ytrain, ytest = train_test_split(X, y, test_size=0.20, random_state=42)\n",
    "\n",
    "tree_classifier_14 = DecisionTreeClassifier(max_depth=25, max_leaf_nodes=25, random_state=42, criterion='gini')\n",
    "tree_classifier_14.fit(Xtrain, ytrain)\n",
    "\n",
    "ypred = tree_classifier_14.predict(Xtest)\n",
    "tree_acc_14 = accuracy_score(ytest, ypred)\n",
    "print(f'Accuracy: {tree_acc_14}')\n",
    "\n",
    "tree_feature_importances = pd.DataFrame(tree_classifier_14.feature_importances_, index = Xtrain.columns, columns=['importance']).sort_values('importance', ascending=False)\n",
    "print(tree_feature_importances)"
   ]
  },
  {
   "cell_type": "code",
   "execution_count": 38,
   "metadata": {},
   "outputs": [
    {
     "name": "stdout",
     "output_type": "stream",
     "text": [
      "Accuracy: 0.8748200163923532\n",
      "                      importance\n",
      "Flow IAT Std            0.442618\n",
      "Flow IAT Mean           0.181939\n",
      "Flow IAT Max            0.174551\n",
      "SYN Flag Count          0.087892\n",
      "Active Std              0.083224\n",
      "Flow IAT Min            0.018948\n",
      "Idle Min                0.010828\n",
      "Bwd Avg Packets/Bulk    0.000000\n",
      "Idle Max                0.000000\n",
      "Idle Std                0.000000\n",
      "Bwd Avg Bulk Rate       0.000000\n",
      "Bwd PSH Flags           0.000000\n",
      "Fwd URG Flags           0.000000\n",
      "Fwd Avg Bulk Rate       0.000000\n",
      "Fwd Avg Packets/Bulk    0.000000\n",
      "Fwd Avg Bytes/Bulk      0.000000\n",
      "ECE Flag Count          0.000000\n",
      "CWE Flag Count          0.000000\n",
      "RST Flag Count          0.000000\n",
      "FIN Flag Count          0.000000\n",
      "Bwd URG Flags           0.000000\n",
      "Bwd Avg Bytes/Bulk      0.000000\n"
     ]
    }
   ],
   "source": [
    "normalized_df.drop(columns='Bwd IAT Min', inplace=True) # Bwd and Fwd can be caught inside the total flow statistics.\n",
    "y = normalized_df['Label_encoded']\n",
    "X = normalized_df.drop(columns=['Label_encoded'])\n",
    "Xtrain, Xtest, ytrain, ytest = train_test_split(X, y, test_size=0.20, random_state=42)\n",
    "\n",
    "tree_classifier_15 = DecisionTreeClassifier(max_depth=25, max_leaf_nodes=25, random_state=42, criterion='gini')\n",
    "tree_classifier_15.fit(Xtrain, ytrain)\n",
    "\n",
    "ypred = tree_classifier_15.predict(Xtest)\n",
    "tree_acc_15 = accuracy_score(ytest, ypred)\n",
    "print(f'Accuracy: {tree_acc_15}')\n",
    "\n",
    "tree_feature_importances = pd.DataFrame(tree_classifier_15.feature_importances_, index = Xtrain.columns, columns=['importance']).sort_values('importance', ascending=False)\n",
    "print(tree_feature_importances)"
   ]
  },
  {
   "cell_type": "code",
   "execution_count": 39,
   "metadata": {},
   "outputs": [
    {
     "data": {
      "text/html": [
       "<style>#sk-container-id-3 {color: black;background-color: white;}#sk-container-id-3 pre{padding: 0;}#sk-container-id-3 div.sk-toggleable {background-color: white;}#sk-container-id-3 label.sk-toggleable__label {cursor: pointer;display: block;width: 100%;margin-bottom: 0;padding: 0.3em;box-sizing: border-box;text-align: center;}#sk-container-id-3 label.sk-toggleable__label-arrow:before {content: \"▸\";float: left;margin-right: 0.25em;color: #696969;}#sk-container-id-3 label.sk-toggleable__label-arrow:hover:before {color: black;}#sk-container-id-3 div.sk-estimator:hover label.sk-toggleable__label-arrow:before {color: black;}#sk-container-id-3 div.sk-toggleable__content {max-height: 0;max-width: 0;overflow: hidden;text-align: left;background-color: #f0f8ff;}#sk-container-id-3 div.sk-toggleable__content pre {margin: 0.2em;color: black;border-radius: 0.25em;background-color: #f0f8ff;}#sk-container-id-3 input.sk-toggleable__control:checked~div.sk-toggleable__content {max-height: 200px;max-width: 100%;overflow: auto;}#sk-container-id-3 input.sk-toggleable__control:checked~label.sk-toggleable__label-arrow:before {content: \"▾\";}#sk-container-id-3 div.sk-estimator input.sk-toggleable__control:checked~label.sk-toggleable__label {background-color: #d4ebff;}#sk-container-id-3 div.sk-label input.sk-toggleable__control:checked~label.sk-toggleable__label {background-color: #d4ebff;}#sk-container-id-3 input.sk-hidden--visually {border: 0;clip: rect(1px 1px 1px 1px);clip: rect(1px, 1px, 1px, 1px);height: 1px;margin: -1px;overflow: hidden;padding: 0;position: absolute;width: 1px;}#sk-container-id-3 div.sk-estimator {font-family: monospace;background-color: #f0f8ff;border: 1px dotted black;border-radius: 0.25em;box-sizing: border-box;margin-bottom: 0.5em;}#sk-container-id-3 div.sk-estimator:hover {background-color: #d4ebff;}#sk-container-id-3 div.sk-parallel-item::after {content: \"\";width: 100%;border-bottom: 1px solid gray;flex-grow: 1;}#sk-container-id-3 div.sk-label:hover label.sk-toggleable__label {background-color: #d4ebff;}#sk-container-id-3 div.sk-serial::before {content: \"\";position: absolute;border-left: 1px solid gray;box-sizing: border-box;top: 0;bottom: 0;left: 50%;z-index: 0;}#sk-container-id-3 div.sk-serial {display: flex;flex-direction: column;align-items: center;background-color: white;padding-right: 0.2em;padding-left: 0.2em;position: relative;}#sk-container-id-3 div.sk-item {position: relative;z-index: 1;}#sk-container-id-3 div.sk-parallel {display: flex;align-items: stretch;justify-content: center;background-color: white;position: relative;}#sk-container-id-3 div.sk-item::before, #sk-container-id-3 div.sk-parallel-item::before {content: \"\";position: absolute;border-left: 1px solid gray;box-sizing: border-box;top: 0;bottom: 0;left: 50%;z-index: -1;}#sk-container-id-3 div.sk-parallel-item {display: flex;flex-direction: column;z-index: 1;position: relative;background-color: white;}#sk-container-id-3 div.sk-parallel-item:first-child::after {align-self: flex-end;width: 50%;}#sk-container-id-3 div.sk-parallel-item:last-child::after {align-self: flex-start;width: 50%;}#sk-container-id-3 div.sk-parallel-item:only-child::after {width: 0;}#sk-container-id-3 div.sk-dashed-wrapped {border: 1px dashed gray;margin: 0 0.4em 0.5em 0.4em;box-sizing: border-box;padding-bottom: 0.4em;background-color: white;}#sk-container-id-3 div.sk-label label {font-family: monospace;font-weight: bold;display: inline-block;line-height: 1.2em;}#sk-container-id-3 div.sk-label-container {text-align: center;}#sk-container-id-3 div.sk-container {/* jupyter's `normalize.less` sets `[hidden] { display: none; }` but bootstrap.min.css set `[hidden] { display: none !important; }` so we also need the `!important` here to be able to override the default hidden behavior on the sphinx rendered scikit-learn.org. See: https://github.com/scikit-learn/scikit-learn/issues/21755 */display: inline-block !important;position: relative;}#sk-container-id-3 div.sk-text-repr-fallback {display: none;}</style><div id=\"sk-container-id-3\" class=\"sk-top-container\"><div class=\"sk-text-repr-fallback\"><pre>RandomForestClassifier(class_weight=&#x27;balanced&#x27;, n_estimators=500)</pre><b>In a Jupyter environment, please rerun this cell to show the HTML representation or trust the notebook. <br />On GitHub, the HTML representation is unable to render, please try loading this page with nbviewer.org.</b></div><div class=\"sk-container\" hidden><div class=\"sk-item\"><div class=\"sk-estimator sk-toggleable\"><input class=\"sk-toggleable__control sk-hidden--visually\" id=\"sk-estimator-id-3\" type=\"checkbox\" checked><label for=\"sk-estimator-id-3\" class=\"sk-toggleable__label sk-toggleable__label-arrow\">RandomForestClassifier</label><div class=\"sk-toggleable__content\"><pre>RandomForestClassifier(class_weight=&#x27;balanced&#x27;, n_estimators=500)</pre></div></div></div></div></div>"
      ],
      "text/plain": [
       "RandomForestClassifier(class_weight='balanced', n_estimators=500)"
      ]
     },
     "execution_count": 39,
     "metadata": {},
     "output_type": "execute_result"
    }
   ],
   "source": [
    "forest_3 = RandomForestClassifier(n_estimators=500, criterion='gini', class_weight='balanced')\n",
    "y = normalized_df['Label_encoded']\n",
    "X = normalized_df.drop(columns=['Label_encoded'])\n",
    "Xtrain, Xtest, ytrain, ytest = train_test_split(X, y, test_size=0.20, random_state=42)\n",
    "\n",
    "forest_3.fit(Xtrain, ytrain)"
   ]
  },
  {
   "cell_type": "code",
   "execution_count": 40,
   "metadata": {},
   "outputs": [
    {
     "name": "stdout",
     "output_type": "stream",
     "text": [
      "0.9492058569434907\n"
     ]
    }
   ],
   "source": [
    "ypred = forest_3.predict(Xtest)\n",
    "print(accuracy_score(ytest, ypred))"
   ]
  },
  {
   "cell_type": "code",
   "execution_count": 41,
   "metadata": {},
   "outputs": [
    {
     "name": "stdout",
     "output_type": "stream",
     "text": [
      "                      importance\n",
      "Flow IAT Mean           0.284107\n",
      "Flow IAT Std            0.266455\n",
      "Flow IAT Max            0.215656\n",
      "Flow IAT Min            0.063739\n",
      "SYN Flag Count          0.047710\n",
      "Idle Max                0.037316\n",
      "Idle Min                0.034519\n",
      "Active Std              0.033028\n",
      "Idle Std                0.016458\n",
      "FIN Flag Count          0.000794\n",
      "RST Flag Count          0.000109\n",
      "ECE Flag Count          0.000109\n",
      "Bwd Avg Bulk Rate       0.000000\n",
      "Bwd PSH Flags           0.000000\n",
      "Bwd Avg Packets/Bulk    0.000000\n",
      "Fwd URG Flags           0.000000\n",
      "Fwd Avg Bulk Rate       0.000000\n",
      "Fwd Avg Packets/Bulk    0.000000\n",
      "Fwd Avg Bytes/Bulk      0.000000\n",
      "CWE Flag Count          0.000000\n",
      "Bwd URG Flags           0.000000\n",
      "Bwd Avg Bytes/Bulk      0.000000\n"
     ]
    }
   ],
   "source": [
    "forest_3_importances = pd.DataFrame(forest_3.feature_importances_, index = Xtrain.columns, columns=['importance']).sort_values('importance', ascending=False)\n",
    "print(forest_3_importances)"
   ]
  },
  {
   "cell_type": "markdown",
   "metadata": {},
   "source": [
    "# Reintroduction of Features\n",
    "After dropping many features, the accuracy dropped from about 95% to 65%.\\\n",
    "To reintroduce features, we discussed reintroducing a single \"grouping\" of features, and we chose Inter Arrival Times of packets.\n",
    "\n",
    "## Groupings of IAT\n",
    "* Flow IAT\n",
    "* Fwd IAT\n",
    "* Bwd IAT\n",
    "\n",
    "We chose to stick with Flow IAT, as it contains info about Fwd and Bwd IAT. (Fwd specifies incoming to the target resource, and Bwd specifies outgoing from the target resource. Flow aggregates Fwd and Bwd data).\\\n",
    "After reintroducing Flow IAT measurements, Flow IAT Mean, Flow IAT Std, Flow IAT Max, and Flow IAT Min, the score of a Decision Tree reached 88% from 65%.\\ At this point, we dropped any remaining Fwd and Bwd IAT information that was still in the dataset, and we switched back to a Random Forest Classifer. We were able to more evenly balance the feature importances.\n"
   ]
  },
  {
   "cell_type": "code",
   "execution_count": 42,
   "metadata": {},
   "outputs": [
    {
     "data": {
      "text/plain": [
       "Text(0.5, 1.0, 'Random Forest Classifier')"
      ]
     },
     "execution_count": 42,
     "metadata": {},
     "output_type": "execute_result"
    },
    {
     "data": {
      "image/png": "[encoded data removed]",
      "text/plain": [
       "<Figure size 640x480 with 2 Axes>"
      ]
     },
     "metadata": {},
     "output_type": "display_data"
    }
   ],
   "source": [
    "from sklearn.metrics import ConfusionMatrixDisplay, confusion_matrix\n",
    "\n",
    "matrix = confusion_matrix(ytest, ypred)\n",
    "cm = ConfusionMatrixDisplay(confusion_matrix=matrix, display_labels=['Benign', 'DDoS'])\n",
    "cm.plot()\n",
    "plt.title(label='Random Forest Classifier')\n"
   ]
  },
  {
   "cell_type": "markdown",
   "metadata": {},
   "source": [
    "# Analyzing the Confusion Matrix\n",
    "### Classes\n",
    "* TP = 25184 correctly labelled as DDoS\n",
    "* FN = 540 DDoS classes incorrectly labelled as Benign\n",
    "* TN = 17658 correctly labelled as Benign\n",
    "* FP = 1761 benign classes incorrectly labelled as DDoS\n",
    "\n",
    "### False Negatives --- Dangerous!\n",
    "False Negatives are the most dangerous value in our dataset. In a real environment, these represent DDoS attack flows that are being permitted through defense mechanisms without detection.\\\n",
    "This value should be reduced as low as possible to ensure defense of a network. Thankfully, our model already appears to have a low number of false negatives, but we would like to test if they could be reduced further.\n",
    "\n",
    "### False Positives --- Annoying\n",
    "False Positives are the Benign classes being labelled as DDoS. Although this does not represent a true threat to a target resource, the model will be \"paranoid\" that actual attacks are occuring.\\\n",
    "In a real environment, this could cause defense mechanisms to be overreactive and make personnel spend resources on something that is not a problem.\n",
    "\n"
   ]
  },
  {
   "cell_type": "code",
   "execution_count": 43,
   "metadata": {},
   "outputs": [
    {
     "name": "stdout",
     "output_type": "stream",
     "text": [
      "Recall: 97.93577981651376\n",
      "Precision: 93.46317937302912\n",
      "F1 Score: 95.64722185311034\n",
      "Accuracy: 0.9492058569434907\n"
     ]
    }
   ],
   "source": [
    "#print(matrix)\n",
    "#print(matrix.ravel())\n",
    "tn, fp, fn, tp = matrix.ravel()\n",
    "\n",
    "recall = tp/(tp + fn) * 100\n",
    "precision = tp/(tp+fp) * 100\n",
    "f1_score = 2 * ((precision * recall) / (precision + recall))\n",
    "accuracy = accuracy_score(ytest, ypred)\n",
    "print(f'Recall: {recall}')\n",
    "print(f'Precision: {precision}')\n",
    "print(f'F1 Score: {f1_score}')\n",
    "print(f'Accuracy: {accuracy}')"
   ]
  },
  {
   "cell_type": "code",
   "execution_count": 44,
   "metadata": {},
   "outputs": [],
   "source": [
    "#forest_4 = RandomForestClassifier(n_estimators=500, criterion='gini', class_weight='balanced', max_features=None)\n",
    "#y = normalized_df['Label_encoded']\n",
    "#X = normalized_df.drop(columns=['Label_encoded'])\n",
    "#Xtrain, Xtest, ytrain, ytest = train_test_split(X, y, test_size=0.20, random_state=42)\n",
    "\n",
    "#forest_4.fit(Xtrain, ytrain)\n",
    "#ypred = forest_4.predict(Xtest)\n",
    "#print(accuracy_score(ytest, ypred))\n"
   ]
  },
  {
   "cell_type": "markdown",
   "metadata": {},
   "source": [
    "### Max Features\n",
    "Changing this in the above cells seemed to really increase the complexity of the model, with no reward."
   ]
  },
  {
   "cell_type": "code",
   "execution_count": 45,
   "metadata": {},
   "outputs": [
    {
     "name": "stdout",
     "output_type": "stream",
     "text": [
      "0.949515982544359\n"
     ]
    }
   ],
   "source": [
    "forest_5 = RandomForestClassifier(n_estimators=500, criterion='gini', class_weight='balanced_subsample')\n",
    "y = normalized_df['Label_encoded']\n",
    "X = normalized_df.drop(columns=['Label_encoded'])\n",
    "Xtrain, Xtest, ytrain, ytest = train_test_split(X, y, test_size=0.20, random_state=42)\n",
    "\n",
    "forest_5.fit(Xtrain, ytrain)\n",
    "ypred = forest_5.predict(Xtest)\n",
    "print(accuracy_score(ytest, ypred))"
   ]
  },
  {
   "cell_type": "markdown",
   "metadata": {},
   "source": [
    "### Class Weight\n",
    "Changing to balanced_subsample does not appear to change the accuracy in a meaningful way in our model."
   ]
  },
  {
   "cell_type": "code",
   "execution_count": 46,
   "metadata": {},
   "outputs": [
    {
     "name": "stdout",
     "output_type": "stream",
     "text": [
      "                      importance\n",
      "Flow IAT Mean           0.285882\n",
      "Flow IAT Std            0.273602\n",
      "Flow IAT Max            0.213685\n",
      "Flow IAT Min            0.059928\n",
      "SYN Flag Count          0.047642\n",
      "Idle Max                0.039279\n",
      "Idle Min                0.032839\n",
      "Active Std              0.030575\n",
      "Idle Std                0.015664\n",
      "FIN Flag Count          0.000699\n",
      "RST Flag Count          0.000106\n",
      "ECE Flag Count          0.000098\n",
      "Bwd Avg Bulk Rate       0.000000\n",
      "Bwd PSH Flags           0.000000\n",
      "Bwd Avg Packets/Bulk    0.000000\n",
      "Fwd URG Flags           0.000000\n",
      "Fwd Avg Bulk Rate       0.000000\n",
      "Fwd Avg Packets/Bulk    0.000000\n",
      "Fwd Avg Bytes/Bulk      0.000000\n",
      "CWE Flag Count          0.000000\n",
      "Bwd URG Flags           0.000000\n",
      "Bwd Avg Bytes/Bulk      0.000000\n"
     ]
    }
   ],
   "source": [
    "forest_5_importances = pd.DataFrame(forest_5.feature_importances_, index = Xtrain.columns, columns=['importance']).sort_values('importance', ascending=False)\n",
    "print(forest_5_importances)"
   ]
  },
  {
   "cell_type": "code",
   "execution_count": 47,
   "metadata": {},
   "outputs": [
    {
     "data": {
      "text/plain": [
       "Index(['Flow Duration', 'Total Fwd Packets', 'Total Backward Packets',\n",
       "       'Total Length of Fwd Packets', 'Total Length of Bwd Packets',\n",
       "       'Fwd Packet Length Max', 'Fwd Packet Length Min',\n",
       "       'Fwd Packet Length Mean', 'Fwd Packet Length Std',\n",
       "       'Bwd Packet Length Max', 'Bwd Packet Length Min',\n",
       "       'Bwd Packet Length Mean', 'Bwd Packet Length Std', 'Flow Bytes/s',\n",
       "       'Flow Packets/s', 'Flow IAT Mean', 'Flow IAT Std', 'Flow IAT Max',\n",
       "       'Flow IAT Min', 'Fwd IAT Total', 'Fwd IAT Mean', 'Fwd IAT Std',\n",
       "       'Fwd IAT Max', 'Fwd IAT Min', 'Bwd IAT Total', 'Bwd IAT Mean',\n",
       "       'Bwd IAT Std', 'Bwd IAT Max', 'Bwd IAT Min', 'Fwd PSH Flags',\n",
       "       'Bwd PSH Flags', 'Fwd URG Flags', 'Bwd URG Flags', 'Fwd Header Length',\n",
       "       'Bwd Header Length', 'Fwd Packets/s', 'Bwd Packets/s',\n",
       "       'Min Packet Length', 'Max Packet Length', 'Packet Length Mean',\n",
       "       'Packet Length Std', 'Packet Length Variance', 'FIN Flag Count',\n",
       "       'SYN Flag Count', 'RST Flag Count', 'PSH Flag Count', 'ACK Flag Count',\n",
       "       'URG Flag Count', 'CWE Flag Count', 'ECE Flag Count', 'Down/Up Ratio',\n",
       "       'Average Packet Size', 'Avg Fwd Segment Size', 'Avg Bwd Segment Size',\n",
       "       'Fwd Header Length.1', 'Fwd Avg Bytes/Bulk', 'Fwd Avg Packets/Bulk',\n",
       "       'Fwd Avg Bulk Rate', 'Bwd Avg Bytes/Bulk', 'Bwd Avg Packets/Bulk',\n",
       "       'Bwd Avg Bulk Rate', 'Subflow Fwd Packets', 'Subflow Fwd Bytes',\n",
       "       'Subflow Bwd Packets', 'Subflow Bwd Bytes', 'Init_Win_bytes_forward',\n",
       "       'Init_Win_bytes_backward', 'act_data_pkt_fwd', 'min_seg_size_forward',\n",
       "       'Active Mean', 'Active Std', 'Active Max', 'Active Min', 'Idle Mean',\n",
       "       'Idle Std', 'Idle Max', 'Idle Min', 'Label_encoded'],\n",
       "      dtype='object')"
      ]
     },
     "execution_count": 47,
     "metadata": {},
     "output_type": "execute_result"
    }
   ],
   "source": [
    "# Use this to view the original columns\n",
    "original_normalized_df.columns"
   ]
  },
  {
   "cell_type": "code",
   "execution_count": 48,
   "metadata": {},
   "outputs": [
    {
     "name": "stdout",
     "output_type": "stream",
     "text": [
      "0.8806459473229515\n"
     ]
    }
   ],
   "source": [
    "from sklearn.ensemble import GradientBoostingClassifier\n",
    "gb_clf = GradientBoostingClassifier(n_estimators=100, learning_rate=0.1) #log_loss is the default loss function\n",
    "y = normalized_df['Label_encoded']\n",
    "X = normalized_df.drop(columns=['Label_encoded'])\n",
    "Xtrain, Xtest, ytrain, ytest = train_test_split(X, y, test_size=0.20, random_state=42)\n",
    "\n",
    "\n",
    "gb_clf.fit(Xtrain, ytrain)\n",
    "ypred = gb_clf.predict(Xtest)\n",
    "print(accuracy_score(ytest, ypred))"
   ]
  },
  {
   "cell_type": "code",
   "execution_count": 49,
   "metadata": {},
   "outputs": [],
   "source": [
    "#gb_clf2 = GradientBoostingClassifier(n_estimators=500, learning_rate=0.1) #log_loss is the default loss function\n",
    "#y = normalized_df['Label_encoded']\n",
    "#X = normalized_df.drop(columns=['Label_encoded'])\n",
    "#Xtrain, Xtest, ytrain, ytest = train_test_split(X, y, test_size=0.20, random_state=42)\n",
    "#\n",
    "#\n",
    "#gb_clf2.fit(Xtrain, ytrain)\n",
    "#ypred = gb_clf2.predict(Xtest)\n",
    "#print(accuracy_score(ytest, ypred))"
   ]
  },
  {
   "cell_type": "code",
   "execution_count": 50,
   "metadata": {},
   "outputs": [],
   "source": [
    "#gb_clf2_importances = pd.DataFrame(gb_clf2.feature_importances_, index = Xtrain.columns, columns=['importance']).sort_values('importance', ascending=False)\n",
    "#print(gb_clf2_importances)"
   ]
  },
  {
   "cell_type": "code",
   "execution_count": 51,
   "metadata": {},
   "outputs": [],
   "source": [
    "#from sklearn.utils.class_weight import compute_sample_weight\n",
    "#Xtrain, Xtest, ytrain, ytest = train_test_split(X, y, test_size=0.20, random_state=42)\n",
    "#sample_weights = compute_sample_weight(class_weight='balanced', y=ytrain)\n",
    "#\n",
    "#gb_clf3 = GradientBoostingClassifier(n_estimators=500, learning_rate=0.1) #log_loss is the default loss function\n",
    "#gb_clf3.fit(Xtrain, ytrain, sample_weight=sample_weights)\n",
    "#ypred = gb_clf3.predict(Xtest)\n",
    "#print(accuracy_score(ytest, ypred))"
   ]
  },
  {
   "cell_type": "code",
   "execution_count": 52,
   "metadata": {},
   "outputs": [],
   "source": [
    "#gb_clf3_importances = pd.DataFrame(gb_clf3.feature_importances_, index = Xtrain.columns, columns=['importance']).sort_values('importance', ascending=False)\n",
    "#print(gb_clf3_importances)"
   ]
  },
  {
   "cell_type": "code",
   "execution_count": 53,
   "metadata": {},
   "outputs": [],
   "source": [
    "#gb_clf4 = GradientBoostingClassifier(n_estimators=500, learning_rate=0.1, subsample=0.5) #log_loss is the default loss function\n",
    "#Xtrain, Xtest, ytrain, ytest = train_test_split(X, y, test_size=0.20, random_state=42)\n",
    "#\n",
    "#gb_clf4.fit(Xtrain, ytrain)\n",
    "#ypred = gb_clf4.predict(Xtest)\n",
    "#print(accuracy_score(ytest, ypred))"
   ]
  },
  {
   "cell_type": "code",
   "execution_count": 54,
   "metadata": {},
   "outputs": [],
   "source": [
    "#gb_clf4_importances = pd.DataFrame(gb_clf4.feature_importances_, index = Xtrain.columns, columns=['importance']).sort_values('importance', ascending=False)\n",
    "#print(gb_clf4_importances)"
   ]
  },
  {
   "cell_type": "code",
   "execution_count": 55,
   "metadata": {},
   "outputs": [],
   "source": [
    "#gb_clf5 = GradientBoostingClassifier(n_estimators=500, learning_rate=0.1, subsample=0.1) #log_loss is the default loss function\n",
    "#Xtrain, Xtest, ytrain, ytest = train_test_split(X, y, test_size=0.20, random_state=42)\n",
    "#\n",
    "#gb_clf5.fit(Xtrain, ytrain)\n",
    "#ypred = gb_clf5.predict(Xtest)\n",
    "#print(accuracy_score(ytest, ypred))"
   ]
  },
  {
   "cell_type": "code",
   "execution_count": 56,
   "metadata": {},
   "outputs": [],
   "source": [
    "#gb_clf6 = GradientBoostingClassifier(n_estimators=500, learning_rate=0.05, subsample=0.5) #log_loss is the default loss function\n",
    "#Xtrain, Xtest, ytrain, ytest = train_test_split(X, y, test_size=0.20, random_state=42)\n",
    "\n",
    "#gb_clf6.fit(Xtrain, ytrain)\n",
    "#ypred = gb_clf6.predict(Xtest)\n",
    "#print(accuracy_score(ytest, ypred))"
   ]
  },
  {
   "cell_type": "code",
   "execution_count": 57,
   "metadata": {},
   "outputs": [],
   "source": [
    "#gb_clf7 = GradientBoostingClassifier(n_estimators=500, learning_rate=0.3, subsample=0.5) #log_loss is the default loss function\n",
    "#Xtrain, Xtest, ytrain, ytest = train_test_split(X, y, test_size=0.20, random_state=42)\n",
    "\n",
    "#gb_clf7.fit(Xtrain, ytrain)\n",
    "#ypred = gb_clf7.predict(Xtest)\n",
    "#print(accuracy_score(ytest, ypred))"
   ]
  },
  {
   "cell_type": "code",
   "execution_count": 58,
   "metadata": {},
   "outputs": [],
   "source": [
    "#gb_clf8 = GradientBoostingClassifier(n_estimators=500, learning_rate=0.7, subsample=0.5) #log_loss is the default loss function\n",
    "#Xtrain, Xtest, ytrain, ytest = train_test_split(X, y, test_size=0.20, random_state=42)\n",
    "\n",
    "#gb_clf8.fit(Xtrain, ytrain)\n",
    "#ypred = gb_clf8.predict(Xtest)\n",
    "#print(accuracy_score(ytest, ypred))"
   ]
  },
  {
   "cell_type": "markdown",
   "metadata": {},
   "source": [
    "## Random Forest vs Gradient Boosting\n",
    "The Random Forest currently performs just better than the Gradient Boost Machine.\n",
    "It might be worth it to put each of them through a Grid Search.\n"
   ]
  },
  {
   "cell_type": "code",
   "execution_count": 59,
   "metadata": {},
   "outputs": [],
   "source": [
    "#forest_5 = RandomForestClassifier(n_estimators=500, criterion='gini', class_weight='balanced_subsample')\n",
    "#y = normalized_df['Label_encoded']\n",
    "#X = normalized_df.drop(columns=['Label_encoded'])\n",
    "#Xtrain, Xtest, ytrain, ytest = train_test_split(X, y, test_size=0.20, random_state=42)\n",
    "#\n",
    "#forest_5.fit(Xtrain, ytrain)\n",
    "#ypred = forest_5.predict(Xtest)\n",
    "#print(accuracy_score(ytest, ypred))\n",
    "\n",
    "#y = normalized_df['Label_encoded']\n",
    "#X = normalized_df.drop(columns=['Label_encoded'])\n",
    "#Xtrain, Xtest, ytrain, ytest = train_test_split(X, y, test_size=0.20, random_state=42)\n",
    "\n"
   ]
  },
  {
   "cell_type": "code",
   "execution_count": 60,
   "metadata": {},
   "outputs": [],
   "source": [
    "#from sklearn.model_selection import GridSearchCV\n",
    "\n",
    "#forest_params = {\n",
    "#    'n_estimators':[125, 250, 500],\n",
    "#    'max_depth': [5, 10, 15, None],\n",
    "#    'criterion': ['gini', 'entropy'],\n",
    "#    'class_weight':['balanced_subsample']\n",
    "#}\n",
    "\n",
    "#rf = RandomForestClassifier()\n",
    "#grid_search = GridSearchCV(estimator=rf, param_grid=forest_params, cv=5, verbose=2, n_jobs=-1) # use all processors\n",
    "#grid_search.fit(Xtrain, ytrain)"
   ]
  },
  {
   "cell_type": "code",
   "execution_count": 61,
   "metadata": {},
   "outputs": [],
   "source": [
    "#print(\"Best Params: \", grid_search.best_params_)\n",
    "#print(\"Best CV Score: \", grid_search.best_score_)"
   ]
  },
  {
   "cell_type": "code",
   "execution_count": 62,
   "metadata": {},
   "outputs": [],
   "source": [
    "#gb_clf8 = GradientBoostingClassifier(n_estimators=500, learning_rate=0.7, subsample=0.5) #log_loss is the default loss function\n",
    "#Xtrain, Xtest, ytrain, ytest = train_test_split(X, y, test_size=0.20, random_state=42)\n",
    "\n",
    "#gb_clf8.fit(Xtrain, ytrain)\n",
    "#ypred = gb_clf8.predict(Xtest)\n",
    "#print(accuracy_score(ytest, ypred))\n",
    "\n",
    "#gb_params = {\n",
    "#    'n_estimators': [250, 500],\n",
    "#    'learning_rate':[0.05, 0.1, 0.5, 0.7, 1],\n",
    "#    'subsample': [0.1, 0.5, 1]\n",
    "#}\n",
    "\n",
    "#gb = GradientBoostingClassifier()\n",
    "#grid_search2 = GridSearchCV(estimator=gb, param_grid=gb_params, cv=5, verbose=2, n_jobs=-1)\n",
    "#grid_search2.fit(Xtrain, ytrain)"
   ]
  },
  {
   "cell_type": "code",
   "execution_count": 63,
   "metadata": {},
   "outputs": [],
   "source": [
    "#print(\"Best Params: \", grid_search2.best_params_)\n",
    "#print(\"Best CV Score: \", grid_search2.best_score_)"
   ]
  },
  {
   "cell_type": "markdown",
   "metadata": {},
   "source": [
    "## Random Forest and Gradient Boost Classifier Results\n",
    "After running each classifier through a GridSearch, neither model had any noticeable improvement.\n",
    "Both models are still about 94% and 93% respectively. It might be worth it to look into readding features."
   ]
  },
  {
   "cell_type": "code",
   "execution_count": 64,
   "metadata": {},
   "outputs": [
    {
     "data": {
      "text/plain": [
       "Index(['Bwd PSH Flags', 'Fwd URG Flags', 'Bwd URG Flags', 'FIN Flag Count',\n",
       "       'SYN Flag Count', 'RST Flag Count', 'CWE Flag Count', 'ECE Flag Count',\n",
       "       'Fwd Avg Bytes/Bulk', 'Fwd Avg Packets/Bulk', 'Fwd Avg Bulk Rate',\n",
       "       'Bwd Avg Bytes/Bulk', 'Bwd Avg Packets/Bulk', 'Bwd Avg Bulk Rate',\n",
       "       'Active Std', 'Idle Std', 'Idle Max', 'Idle Min', 'Label_encoded',\n",
       "       'Flow IAT Mean', 'Flow IAT Std', 'Flow IAT Max', 'Flow IAT Min'],\n",
       "      dtype='object')"
      ]
     },
     "execution_count": 64,
     "metadata": {},
     "output_type": "execute_result"
    }
   ],
   "source": [
    "normalized_df.columns"
   ]
  },
  {
   "cell_type": "code",
   "execution_count": 65,
   "metadata": {},
   "outputs": [
    {
     "data": {
      "text/plain": [
       "Index(['Flow Duration', 'Total Fwd Packets', 'Total Backward Packets',\n",
       "       'Total Length of Fwd Packets', 'Total Length of Bwd Packets',\n",
       "       'Fwd Packet Length Max', 'Fwd Packet Length Min',\n",
       "       'Fwd Packet Length Mean', 'Fwd Packet Length Std',\n",
       "       'Bwd Packet Length Max', 'Bwd Packet Length Min',\n",
       "       'Bwd Packet Length Mean', 'Bwd Packet Length Std', 'Flow Bytes/s',\n",
       "       'Flow Packets/s', 'Flow IAT Mean', 'Flow IAT Std', 'Flow IAT Max',\n",
       "       'Flow IAT Min', 'Fwd IAT Total', 'Fwd IAT Mean', 'Fwd IAT Std',\n",
       "       'Fwd IAT Max', 'Fwd IAT Min', 'Bwd IAT Total', 'Bwd IAT Mean',\n",
       "       'Bwd IAT Std', 'Bwd IAT Max', 'Bwd IAT Min', 'Fwd PSH Flags',\n",
       "       'Bwd PSH Flags', 'Fwd URG Flags', 'Bwd URG Flags', 'Fwd Header Length',\n",
       "       'Bwd Header Length', 'Fwd Packets/s', 'Bwd Packets/s',\n",
       "       'Min Packet Length', 'Max Packet Length', 'Packet Length Mean',\n",
       "       'Packet Length Std', 'Packet Length Variance', 'FIN Flag Count',\n",
       "       'SYN Flag Count', 'RST Flag Count', 'PSH Flag Count', 'ACK Flag Count',\n",
       "       'URG Flag Count', 'CWE Flag Count', 'ECE Flag Count', 'Down/Up Ratio',\n",
       "       'Average Packet Size', 'Avg Fwd Segment Size', 'Avg Bwd Segment Size',\n",
       "       'Fwd Header Length.1', 'Fwd Avg Bytes/Bulk', 'Fwd Avg Packets/Bulk',\n",
       "       'Fwd Avg Bulk Rate', 'Bwd Avg Bytes/Bulk', 'Bwd Avg Packets/Bulk',\n",
       "       'Bwd Avg Bulk Rate', 'Subflow Fwd Packets', 'Subflow Fwd Bytes',\n",
       "       'Subflow Bwd Packets', 'Subflow Bwd Bytes', 'Init_Win_bytes_forward',\n",
       "       'Init_Win_bytes_backward', 'act_data_pkt_fwd', 'min_seg_size_forward',\n",
       "       'Active Mean', 'Active Std', 'Active Max', 'Active Min', 'Idle Mean',\n",
       "       'Idle Std', 'Idle Max', 'Idle Min', 'Label_encoded'],\n",
       "      dtype='object')"
      ]
     },
     "execution_count": 65,
     "metadata": {},
     "output_type": "execute_result"
    }
   ],
   "source": [
    "original_normalized_df.columns"
   ]
  },
  {
   "cell_type": "code",
   "execution_count": 66,
   "metadata": {},
   "outputs": [],
   "source": [
    "#                      importance\n",
    "#Flow IAT Mean           0.289722\n",
    "#Flow IAT Std            0.264096\n",
    "#Flow IAT Max            0.215410\n",
    "#Flow IAT Min            0.061349\n",
    "#SYN Flag Count          0.048358\n",
    "#Idle Max                0.036991\n",
    "#Idle Min                0.034345\n",
    "#Active Std              0.032393\n",
    "#Idle Std                0.016399\n",
    "#FIN Flag Count          0.000723\n",
    "#ECE Flag Count          0.000110\n",
    "#RST Flag Count          0.000103\n",
    "#Bwd Avg Bulk Rate       0.000000\n",
    "#Bwd PSH Flags           0.000000\n",
    "#Bwd Avg Packets/Bulk    0.000000\n",
    "#Fwd URG Flags           0.000000\n",
    "#Fwd Avg Bulk Rate       0.000000\n",
    "#Fwd Avg Packets/Bulk    0.000000\n",
    "#Fwd Avg Bytes/Bulk      0.000000\n",
    "#CWE Flag Count          0.000000\n",
    "#Bwd URG Flags           0.000000\n",
    "#Bwd Avg Bytes/Bulk      0.000000"
   ]
  },
  {
   "cell_type": "code",
   "execution_count": 67,
   "metadata": {},
   "outputs": [],
   "source": [
    "# 'Active Mean', 'Active Std', 'Active Max', 'Active Min', 'Idle Mean',\n",
    "       #'Idle Std', 'Idle Max', 'Idle Min'\n",
    "\n",
    "#Idle Max                0.036991\n",
    "#Idle Min                0.034345\n",
    "#Idle Std                0.016399\n",
    "\n",
    "#Active Std              0.032393\n",
    "\n",
    "normalized_df[\"Active Mean\"] = original_normalized_df[\"Active Mean\"]\n",
    "normalized_df[\"Active Max\"] = original_normalized_df[\"Active Max\"]\n",
    "normalized_df[\"Active Min\"] = original_normalized_df[\"Active Min\"]\n",
    "\n",
    "normalized_df[\"Idle Mean\"] = original_normalized_df[\"Idle Mean\"]\n"
   ]
  },
  {
   "cell_type": "code",
   "execution_count": 68,
   "metadata": {},
   "outputs": [
    {
     "data": {
      "text/plain": [
       "(225711, 27)"
      ]
     },
     "execution_count": 68,
     "metadata": {},
     "output_type": "execute_result"
    }
   ],
   "source": [
    "normalized_df.columns\n",
    "normalized_df.shape"
   ]
  },
  {
   "cell_type": "code",
   "execution_count": 69,
   "metadata": {},
   "outputs": [
    {
     "name": "stdout",
     "output_type": "stream",
     "text": [
      "0.9565824158784307\n"
     ]
    }
   ],
   "source": [
    "forest_6 = RandomForestClassifier(n_estimators=500, criterion='gini', class_weight='balanced_subsample')\n",
    "y = normalized_df['Label_encoded']\n",
    "X = normalized_df.drop(columns=['Label_encoded'])\n",
    "Xtrain, Xtest, ytrain, ytest = train_test_split(X, y, test_size=0.20, random_state=42)\n",
    "\n",
    "forest_6.fit(Xtrain, ytrain)\n",
    "ypred = forest_6.predict(Xtest)\n",
    "print(accuracy_score(ytest, ypred))"
   ]
  },
  {
   "cell_type": "code",
   "execution_count": 70,
   "metadata": {},
   "outputs": [
    {
     "name": "stdout",
     "output_type": "stream",
     "text": [
      "0.9569368451365661\n"
     ]
    }
   ],
   "source": [
    "forest_7 = RandomForestClassifier(n_estimators=500, criterion='entropy', class_weight='balanced_subsample')\n",
    "y = normalized_df['Label_encoded']\n",
    "X = normalized_df.drop(columns=['Label_encoded'])\n",
    "Xtrain, Xtest, ytrain, ytest = train_test_split(X, y, test_size=0.20, random_state=42)\n",
    "\n",
    "forest_7.fit(Xtrain, ytrain)\n",
    "ypred = forest_7.predict(Xtest)\n",
    "print(accuracy_score(ytest, ypred))"
   ]
  },
  {
   "cell_type": "code",
   "execution_count": 71,
   "metadata": {},
   "outputs": [
    {
     "name": "stdout",
     "output_type": "stream",
     "text": [
      "                      importance\n",
      "Flow IAT Std            0.221225\n",
      "Flow IAT Mean           0.198639\n",
      "Flow IAT Max            0.197018\n",
      "Active Max              0.062536\n",
      "Active Mean             0.059704\n",
      "Active Min              0.055881\n",
      "Flow IAT Min            0.054134\n",
      "Idle Mean               0.038931\n",
      "Idle Min                0.038563\n",
      "Idle Max                0.029510\n",
      "SYN Flag Count          0.029253\n",
      "Active Std              0.007364\n",
      "Idle Std                0.006272\n",
      "FIN Flag Count          0.000794\n",
      "RST Flag Count          0.000092\n",
      "ECE Flag Count          0.000084\n",
      "Bwd PSH Flags           0.000000\n",
      "Fwd URG Flags           0.000000\n",
      "Bwd Avg Packets/Bulk    0.000000\n",
      "Bwd Avg Bytes/Bulk      0.000000\n",
      "Fwd Avg Bulk Rate       0.000000\n",
      "Fwd Avg Packets/Bulk    0.000000\n",
      "Fwd Avg Bytes/Bulk      0.000000\n",
      "CWE Flag Count          0.000000\n",
      "Bwd URG Flags           0.000000\n",
      "Bwd Avg Bulk Rate       0.000000\n"
     ]
    }
   ],
   "source": [
    "forest_7_importances = pd.DataFrame(forest_7.feature_importances_, index = Xtrain.columns, columns=['importance']).sort_values('importance', ascending=False)\n",
    "print(forest_7_importances)"
   ]
  },
  {
   "cell_type": "code",
   "execution_count": 72,
   "metadata": {},
   "outputs": [],
   "source": [
    "#'Subflow Fwd Packets', 'Subflow Fwd Bytes',\n",
    "#       'Subflow Bwd Packets', 'Subflow Bwd Bytes\n",
    "normalized_df['Subflow Fwd Packets'] = original_normalized_df['Subflow Fwd Packets']\n",
    "normalized_df['Subflow Fwd Bytes'] = original_normalized_df['Subflow Fwd Bytes']\n",
    "normalized_df['Subflow Bwd Packets'] = original_normalized_df['Subflow Bwd Packets']\n",
    "normalized_df['Subflow Bwd Bytes'] = original_normalized_df['Subflow Bwd Bytes']"
   ]
  },
  {
   "cell_type": "code",
   "execution_count": 73,
   "metadata": {},
   "outputs": [
    {
     "name": "stdout",
     "output_type": "stream",
     "text": [
      "0.9994240524555302\n"
     ]
    }
   ],
   "source": [
    "forest_8 = RandomForestClassifier(n_estimators=500, criterion='entropy', class_weight='balanced_subsample')\n",
    "y = normalized_df['Label_encoded']\n",
    "X = normalized_df.drop(columns=['Label_encoded'])\n",
    "Xtrain, Xtest, ytrain, ytest = train_test_split(X, y, test_size=0.20, random_state=42)\n",
    "\n",
    "forest_8.fit(Xtrain, ytrain)\n",
    "ypred = forest_8.predict(Xtest)\n",
    "print(accuracy_score(ytest, ypred))"
   ]
  },
  {
   "cell_type": "code",
   "execution_count": 74,
   "metadata": {},
   "outputs": [
    {
     "name": "stdout",
     "output_type": "stream",
     "text": [
      "                      importance\n",
      "Subflow Fwd Bytes       0.270357\n",
      "Subflow Bwd Bytes       0.190934\n",
      "Subflow Fwd Packets     0.189278\n",
      "Subflow Bwd Packets     0.095815\n",
      "Flow IAT Std            0.069861\n",
      "Flow IAT Mean           0.043884\n",
      "Flow IAT Max            0.040964\n",
      "Active Max              0.017298\n",
      "Active Mean             0.017105\n",
      "Active Min              0.014604\n",
      "Flow IAT Min            0.013643\n",
      "Idle Max                0.009189\n",
      "Idle Min                0.008309\n",
      "Idle Mean               0.007588\n",
      "SYN Flag Count          0.004364\n",
      "Active Std              0.004247\n",
      "Idle Std                0.002043\n",
      "FIN Flag Count          0.000510\n",
      "ECE Flag Count          0.000005\n",
      "RST Flag Count          0.000005\n",
      "Fwd URG Flags           0.000000\n",
      "Bwd Avg Bulk Rate       0.000000\n",
      "Bwd Avg Packets/Bulk    0.000000\n",
      "Bwd Avg Bytes/Bulk      0.000000\n",
      "Fwd Avg Bulk Rate       0.000000\n",
      "Fwd Avg Packets/Bulk    0.000000\n",
      "Fwd Avg Bytes/Bulk      0.000000\n",
      "CWE Flag Count          0.000000\n",
      "Bwd URG Flags           0.000000\n",
      "Bwd PSH Flags           0.000000\n"
     ]
    }
   ],
   "source": [
    "forest_8_importances = pd.DataFrame(forest_8.feature_importances_, index = Xtrain.columns, columns=['importance']).sort_values('importance', ascending=False)\n",
    "print(forest_8_importances)"
   ]
  },
  {
   "cell_type": "code",
   "execution_count": 75,
   "metadata": {},
   "outputs": [
    {
     "data": {
      "text/plain": [
       "Index(['Bwd PSH Flags', 'Fwd URG Flags', 'Bwd URG Flags', 'FIN Flag Count',\n",
       "       'SYN Flag Count', 'RST Flag Count', 'CWE Flag Count', 'ECE Flag Count',\n",
       "       'Fwd Avg Bytes/Bulk', 'Fwd Avg Packets/Bulk', 'Fwd Avg Bulk Rate',\n",
       "       'Bwd Avg Bytes/Bulk', 'Bwd Avg Packets/Bulk', 'Bwd Avg Bulk Rate',\n",
       "       'Active Std', 'Idle Std', 'Idle Max', 'Idle Min', 'Label_encoded',\n",
       "       'Flow IAT Mean', 'Flow IAT Std', 'Flow IAT Max', 'Flow IAT Min',\n",
       "       'Active Mean', 'Active Max', 'Active Min', 'Idle Mean'],\n",
       "      dtype='object')"
      ]
     },
     "execution_count": 75,
     "metadata": {},
     "output_type": "execute_result"
    }
   ],
   "source": [
    "drop = ['Subflow Fwd Packets', 'Subflow Fwd Bytes', 'Subflow Bwd Packets', 'Subflow Bwd Bytes']\n",
    "normalized_df.drop(columns=drop, inplace=True)\n",
    "normalized_df.columns"
   ]
  },
  {
   "cell_type": "code",
   "execution_count": 76,
   "metadata": {},
   "outputs": [
    {
     "data": {
      "text/plain": [
       "Index(['Bwd PSH Flags', 'Fwd URG Flags', 'Bwd URG Flags', 'FIN Flag Count',\n",
       "       'SYN Flag Count', 'RST Flag Count', 'CWE Flag Count', 'ECE Flag Count',\n",
       "       'Fwd Avg Bytes/Bulk', 'Fwd Avg Packets/Bulk', 'Fwd Avg Bulk Rate',\n",
       "       'Bwd Avg Bytes/Bulk', 'Bwd Avg Packets/Bulk', 'Bwd Avg Bulk Rate',\n",
       "       'Active Std', 'Idle Std', 'Idle Max', 'Idle Min', 'Label_encoded',\n",
       "       'Flow IAT Mean', 'Flow IAT Std', 'Flow IAT Max', 'Flow IAT Min',\n",
       "       'Active Mean', 'Active Max', 'Active Min', 'Idle Mean',\n",
       "       'Flow Packets/s'],\n",
       "      dtype='object')"
      ]
     },
     "execution_count": 76,
     "metadata": {},
     "output_type": "execute_result"
    }
   ],
   "source": [
    "normalized_df['Flow Packets/s'] = original_normalized_df['Flow Packets/s']\n",
    "normalized_df.columns"
   ]
  },
  {
   "cell_type": "code",
   "execution_count": 77,
   "metadata": {},
   "outputs": [
    {
     "name": "stdout",
     "output_type": "stream",
     "text": [
      "0.9524621757526084\n"
     ]
    }
   ],
   "source": [
    "forest_9 = RandomForestClassifier(n_estimators=500, criterion='entropy', class_weight='balanced_subsample')\n",
    "y = normalized_df['Label_encoded']\n",
    "X = normalized_df.drop(columns=['Label_encoded'])\n",
    "Xtrain, Xtest, ytrain, ytest = train_test_split(X, y, test_size=0.20, random_state=42)\n",
    "\n",
    "forest_9.fit(Xtrain, ytrain)\n",
    "ypred = forest_9.predict(Xtest)\n",
    "print(accuracy_score(ytest, ypred))"
   ]
  },
  {
   "cell_type": "code",
   "execution_count": 78,
   "metadata": {},
   "outputs": [
    {
     "name": "stdout",
     "output_type": "stream",
     "text": [
      "                      importance\n",
      "Flow IAT Std            0.207672\n",
      "Flow IAT Mean           0.162851\n",
      "Flow IAT Max            0.162083\n",
      "Active Max              0.070191\n",
      "Active Min              0.064756\n",
      "Active Mean             0.063629\n",
      "Flow Packets/s          0.062020\n",
      "Flow IAT Min            0.051696\n",
      "Idle Min                0.041429\n",
      "Idle Mean               0.038660\n",
      "Idle Max                0.031119\n",
      "SYN Flag Count          0.029922\n",
      "Active Std              0.007382\n",
      "Idle Std                0.005685\n",
      "FIN Flag Count          0.000725\n",
      "ECE Flag Count          0.000093\n",
      "RST Flag Count          0.000090\n",
      "Bwd PSH Flags           0.000000\n",
      "Fwd URG Flags           0.000000\n",
      "Bwd Avg Packets/Bulk    0.000000\n",
      "Bwd Avg Bytes/Bulk      0.000000\n",
      "Fwd Avg Bulk Rate       0.000000\n",
      "Fwd Avg Packets/Bulk    0.000000\n",
      "Fwd Avg Bytes/Bulk      0.000000\n",
      "CWE Flag Count          0.000000\n",
      "Bwd URG Flags           0.000000\n",
      "Bwd Avg Bulk Rate       0.000000\n"
     ]
    }
   ],
   "source": [
    "forest_9_importances = pd.DataFrame(forest_9.feature_importances_, index = Xtrain.columns, columns=['importance']).sort_values('importance', ascending=False)\n",
    "print(forest_9_importances)"
   ]
  },
  {
   "cell_type": "code",
   "execution_count": 79,
   "metadata": {},
   "outputs": [
    {
     "data": {
      "text/plain": [
       "Index(['Bwd PSH Flags', 'Fwd URG Flags', 'Bwd URG Flags', 'FIN Flag Count',\n",
       "       'SYN Flag Count', 'RST Flag Count', 'CWE Flag Count', 'ECE Flag Count',\n",
       "       'Fwd Avg Bytes/Bulk', 'Fwd Avg Packets/Bulk', 'Fwd Avg Bulk Rate',\n",
       "       'Bwd Avg Bytes/Bulk', 'Bwd Avg Packets/Bulk', 'Bwd Avg Bulk Rate',\n",
       "       'Active Std', 'Idle Std', 'Idle Max', 'Idle Min', 'Label_encoded',\n",
       "       'Flow IAT Mean', 'Flow IAT Std', 'Flow IAT Max', 'Flow IAT Min',\n",
       "       'Active Mean', 'Active Max', 'Active Min', 'Idle Mean',\n",
       "       'Flow Packets/s', 'Total Fwd Packets', 'Total Backward Packets'],\n",
       "      dtype='object')"
      ]
     },
     "execution_count": 79,
     "metadata": {},
     "output_type": "execute_result"
    }
   ],
   "source": [
    "#'Total Fwd Packets', 'Total Backward Packets'\n",
    "normalized_df['Total Fwd Packets'] = original_normalized_df['Total Fwd Packets']\n",
    "normalized_df['Total Backward Packets'] = original_normalized_df['Total Backward Packets']\n",
    "\n",
    "normalized_df.columns"
   ]
  },
  {
   "cell_type": "code",
   "execution_count": 80,
   "metadata": {},
   "outputs": [
    {
     "name": "stdout",
     "output_type": "stream",
     "text": [
      "0.9972974769067187\n"
     ]
    }
   ],
   "source": [
    "forest_10 = RandomForestClassifier(n_estimators=500, criterion='entropy', class_weight='balanced_subsample')\n",
    "y = normalized_df['Label_encoded']\n",
    "X = normalized_df.drop(columns=['Label_encoded'])\n",
    "Xtrain, Xtest, ytrain, ytest = train_test_split(X, y, test_size=0.20, random_state=42)\n",
    "\n",
    "forest_10.fit(Xtrain, ytrain)\n",
    "ypred = forest_10.predict(Xtest)\n",
    "print(accuracy_score(ytest, ypred))"
   ]
  },
  {
   "cell_type": "code",
   "execution_count": 81,
   "metadata": {},
   "outputs": [
    {
     "name": "stdout",
     "output_type": "stream",
     "text": [
      "                        importance\n",
      "Total Fwd Packets         0.320958\n",
      "Total Backward Packets    0.200962\n",
      "Flow IAT Std              0.102547\n",
      "Flow IAT Max              0.078429\n",
      "Flow IAT Mean             0.067590\n",
      "Flow Packets/s            0.036159\n",
      "Active Mean               0.031213\n",
      "Active Max                0.030788\n",
      "Active Min                0.027715\n",
      "Idle Mean                 0.021970\n",
      "Flow IAT Min              0.021212\n",
      "Idle Min                  0.019416\n",
      "Idle Max                  0.016401\n",
      "SYN Flag Count            0.012543\n",
      "Idle Std                  0.005904\n",
      "Active Std                0.005651\n",
      "FIN Flag Count            0.000449\n",
      "RST Flag Count            0.000048\n",
      "ECE Flag Count            0.000044\n",
      "Fwd URG Flags             0.000000\n",
      "Bwd Avg Bulk Rate         0.000000\n",
      "Bwd Avg Packets/Bulk      0.000000\n",
      "Bwd Avg Bytes/Bulk        0.000000\n",
      "Fwd Avg Bulk Rate         0.000000\n",
      "Fwd Avg Packets/Bulk      0.000000\n",
      "Fwd Avg Bytes/Bulk        0.000000\n",
      "CWE Flag Count            0.000000\n",
      "Bwd URG Flags             0.000000\n",
      "Bwd PSH Flags             0.000000\n"
     ]
    }
   ],
   "source": [
    "forest_10_importances = pd.DataFrame(forest_10.feature_importances_, index = Xtrain.columns, columns=['importance']).sort_values('importance', ascending=False)\n",
    "print(forest_10_importances)"
   ]
  },
  {
   "cell_type": "code",
   "execution_count": 82,
   "metadata": {},
   "outputs": [],
   "source": [
    "drop = ['Total Fwd Packets', 'Total Backward Packets']\n",
    "normalized_df.drop(columns=drop, inplace=True)"
   ]
  },
  {
   "cell_type": "code",
   "execution_count": 83,
   "metadata": {},
   "outputs": [
    {
     "data": {
      "text/plain": [
       "Index(['Flow Duration', 'Total Fwd Packets', 'Total Backward Packets',\n",
       "       'Total Length of Fwd Packets', 'Total Length of Bwd Packets',\n",
       "       'Fwd Packet Length Max', 'Fwd Packet Length Min',\n",
       "       'Fwd Packet Length Mean', 'Fwd Packet Length Std',\n",
       "       'Bwd Packet Length Max', 'Bwd Packet Length Min',\n",
       "       'Bwd Packet Length Mean', 'Bwd Packet Length Std', 'Flow Bytes/s',\n",
       "       'Flow Packets/s', 'Flow IAT Mean', 'Flow IAT Std', 'Flow IAT Max',\n",
       "       'Flow IAT Min', 'Fwd IAT Total', 'Fwd IAT Mean', 'Fwd IAT Std',\n",
       "       'Fwd IAT Max', 'Fwd IAT Min', 'Bwd IAT Total', 'Bwd IAT Mean',\n",
       "       'Bwd IAT Std', 'Bwd IAT Max', 'Bwd IAT Min', 'Fwd PSH Flags',\n",
       "       'Bwd PSH Flags', 'Fwd URG Flags', 'Bwd URG Flags', 'Fwd Header Length',\n",
       "       'Bwd Header Length', 'Fwd Packets/s', 'Bwd Packets/s',\n",
       "       'Min Packet Length', 'Max Packet Length', 'Packet Length Mean',\n",
       "       'Packet Length Std', 'Packet Length Variance', 'FIN Flag Count',\n",
       "       'SYN Flag Count', 'RST Flag Count', 'PSH Flag Count', 'ACK Flag Count',\n",
       "       'URG Flag Count', 'CWE Flag Count', 'ECE Flag Count', 'Down/Up Ratio',\n",
       "       'Average Packet Size', 'Avg Fwd Segment Size', 'Avg Bwd Segment Size',\n",
       "       'Fwd Header Length.1', 'Fwd Avg Bytes/Bulk', 'Fwd Avg Packets/Bulk',\n",
       "       'Fwd Avg Bulk Rate', 'Bwd Avg Bytes/Bulk', 'Bwd Avg Packets/Bulk',\n",
       "       'Bwd Avg Bulk Rate', 'Subflow Fwd Packets', 'Subflow Fwd Bytes',\n",
       "       'Subflow Bwd Packets', 'Subflow Bwd Bytes', 'Init_Win_bytes_forward',\n",
       "       'Init_Win_bytes_backward', 'act_data_pkt_fwd', 'min_seg_size_forward',\n",
       "       'Active Mean', 'Active Std', 'Active Max', 'Active Min', 'Idle Mean',\n",
       "       'Idle Std', 'Idle Max', 'Idle Min', 'Label_encoded'],\n",
       "      dtype='object')"
      ]
     },
     "execution_count": 83,
     "metadata": {},
     "output_type": "execute_result"
    }
   ],
   "source": [
    "original_normalized_df.columns"
   ]
  },
  {
   "cell_type": "code",
   "execution_count": 84,
   "metadata": {},
   "outputs": [],
   "source": [
    "normalized_df.drop(columns=['SYN Flag Count'], inplace=True) # dropped because SYN is TCP related"
   ]
  },
  {
   "cell_type": "code",
   "execution_count": 85,
   "metadata": {},
   "outputs": [],
   "source": [
    "#Flow IAT Std              0.096369\n",
    "#Flow IAT Max              0.076349\n",
    "#Flow IAT Mean             0.069042\n",
    "#Flow Packets/s            0.041150\n",
    "#Active Max                0.030812\n",
    "#Active Mean               0.029518\n",
    "#Active Min                0.026151\n",
    "#Flow IAT Min              0.020573\n",
    "normalized_df['Fwd Avg Bulk Rate'] = original_normalized_df['Fwd Avg Bulk Rate']\n",
    "normalized_df['Bwd Avg Bulk Rate'] = original_normalized_df['Bwd Avg Bulk Rate']"
   ]
  },
  {
   "cell_type": "code",
   "execution_count": 86,
   "metadata": {},
   "outputs": [
    {
     "data": {
      "text/plain": [
       "Index(['Bwd PSH Flags', 'Fwd URG Flags', 'Bwd URG Flags', 'FIN Flag Count',\n",
       "       'RST Flag Count', 'CWE Flag Count', 'ECE Flag Count',\n",
       "       'Fwd Avg Bytes/Bulk', 'Fwd Avg Packets/Bulk', 'Fwd Avg Bulk Rate',\n",
       "       'Bwd Avg Bytes/Bulk', 'Bwd Avg Packets/Bulk', 'Bwd Avg Bulk Rate',\n",
       "       'Active Std', 'Idle Std', 'Idle Max', 'Idle Min', 'Label_encoded',\n",
       "       'Flow IAT Mean', 'Flow IAT Std', 'Flow IAT Max', 'Flow IAT Min',\n",
       "       'Active Mean', 'Active Max', 'Active Min', 'Idle Mean',\n",
       "       'Flow Packets/s'],\n",
       "      dtype='object')"
      ]
     },
     "execution_count": 86,
     "metadata": {},
     "output_type": "execute_result"
    }
   ],
   "source": [
    "normalized_df.columns"
   ]
  },
  {
   "cell_type": "code",
   "execution_count": 87,
   "metadata": {},
   "outputs": [
    {
     "name": "stdout",
     "output_type": "stream",
     "text": [
      "0.9503356002037968\n"
     ]
    }
   ],
   "source": [
    "forest_11 = RandomForestClassifier(n_estimators=500, criterion='entropy', class_weight='balanced_subsample')\n",
    "y = normalized_df['Label_encoded']\n",
    "X = normalized_df.drop(columns=['Label_encoded'])\n",
    "Xtrain, Xtest, ytrain, ytest = train_test_split(X, y, test_size=0.20, random_state=42)\n",
    "\n",
    "forest_11.fit(Xtrain, ytrain)\n",
    "ypred = forest_11.predict(Xtest)\n",
    "print(accuracy_score(ytest, ypred))"
   ]
  },
  {
   "cell_type": "code",
   "execution_count": 88,
   "metadata": {},
   "outputs": [
    {
     "name": "stdout",
     "output_type": "stream",
     "text": [
      "                      importance\n",
      "Flow IAT Std            0.210853\n",
      "Flow IAT Mean           0.173104\n",
      "Flow IAT Max            0.166680\n",
      "Active Min              0.067287\n",
      "Active Max              0.067124\n",
      "Active Mean             0.066349\n",
      "Flow Packets/s          0.066284\n",
      "Flow IAT Min            0.053605\n",
      "Idle Mean               0.043212\n",
      "Idle Min                0.038867\n",
      "Idle Max                0.029709\n",
      "Active Std              0.009958\n",
      "Idle Std                0.006072\n",
      "FIN Flag Count          0.000717\n",
      "RST Flag Count          0.000098\n",
      "ECE Flag Count          0.000081\n",
      "Bwd Avg Bulk Rate       0.000000\n",
      "Fwd URG Flags           0.000000\n",
      "Bwd Avg Packets/Bulk    0.000000\n",
      "Bwd Avg Bytes/Bulk      0.000000\n",
      "Fwd Avg Bulk Rate       0.000000\n",
      "Fwd Avg Packets/Bulk    0.000000\n",
      "Fwd Avg Bytes/Bulk      0.000000\n",
      "CWE Flag Count          0.000000\n",
      "Bwd URG Flags           0.000000\n",
      "Bwd PSH Flags           0.000000\n"
     ]
    }
   ],
   "source": [
    "forest_11_importances = pd.DataFrame(forest_11.feature_importances_, index = Xtrain.columns, columns=['importance']).sort_values('importance', ascending=False)\n",
    "print(forest_11_importances)"
   ]
  },
  {
   "cell_type": "code",
   "execution_count": 89,
   "metadata": {},
   "outputs": [
    {
     "data": {
      "text/plain": [
       "Index(['FIN Flag Count', 'RST Flag Count', 'ECE Flag Count', 'Active Std',\n",
       "       'Idle Std', 'Idle Max', 'Idle Min', 'Label_encoded', 'Flow IAT Mean',\n",
       "       'Flow IAT Std', 'Flow IAT Max', 'Flow IAT Min', 'Active Mean',\n",
       "       'Active Max', 'Active Min', 'Idle Mean', 'Flow Packets/s'],\n",
       "      dtype='object')"
      ]
     },
     "execution_count": 89,
     "metadata": {},
     "output_type": "execute_result"
    }
   ],
   "source": [
    "#Bwd Avg Bulk Rate       0.000000\n",
    "#Fwd URG Flags           0.000000\n",
    "#Bwd Avg Packets/Bulk    0.000000\n",
    "#Bwd Avg Bytes/Bulk      0.000000\n",
    "#Fwd Avg Bulk Rate       0.000000\n",
    "#Fwd Avg Packets/Bulk    0.000000\n",
    "#Fwd Avg Bytes/Bulk      0.000000\n",
    "#CWE Flag Count          0.000000\n",
    "#Bwd URG Flags           0.000000\n",
    "#Bwd PSH Flags           0.000000\n",
    "drop = ['Bwd Avg Bulk Rate', 'Fwd URG Flags', 'Bwd Avg Packets/Bulk', 'Bwd Avg Bytes/Bulk', 'Fwd Avg Bulk Rate', 'Fwd Avg Packets/Bulk', 'Fwd Avg Bytes/Bulk', 'CWE Flag Count', 'Bwd URG Flags', 'Bwd PSH Flags']\n",
    "normalized_df.drop(columns=drop, inplace=True)\n",
    "normalized_df.columns"
   ]
  },
  {
   "cell_type": "code",
   "execution_count": 90,
   "metadata": {},
   "outputs": [
    {
     "name": "stdout",
     "output_type": "stream",
     "text": [
      "0.9513102806636687\n"
     ]
    }
   ],
   "source": [
    "forest_12 = RandomForestClassifier(n_estimators=500, criterion='entropy', class_weight='balanced_subsample')\n",
    "y = normalized_df['Label_encoded']\n",
    "X = normalized_df.drop(columns=['Label_encoded'])\n",
    "Xtrain, Xtest, ytrain, ytest = train_test_split(X, y, test_size=0.20, random_state=42)\n",
    "\n",
    "forest_12.fit(Xtrain, ytrain)\n",
    "ypred = forest_12.predict(Xtest)\n",
    "print(accuracy_score(ytest, ypred))"
   ]
  },
  {
   "cell_type": "code",
   "execution_count": 91,
   "metadata": {},
   "outputs": [
    {
     "name": "stdout",
     "output_type": "stream",
     "text": [
      "                importance\n",
      "Flow IAT Std      0.217565\n",
      "Flow IAT Max      0.177302\n",
      "Flow IAT Mean     0.165131\n",
      "Flow Packets/s    0.068391\n",
      "Active Mean       0.065299\n",
      "Active Max        0.064390\n",
      "Active Min        0.060283\n",
      "Flow IAT Min      0.048900\n",
      "Idle Min          0.046648\n",
      "Idle Mean         0.045495\n",
      "Idle Max          0.028373\n",
      "Active Std        0.007793\n",
      "Idle Std          0.003609\n",
      "FIN Flag Count    0.000659\n",
      "ECE Flag Count    0.000084\n",
      "RST Flag Count    0.000078\n"
     ]
    }
   ],
   "source": [
    "forest_12_importances = pd.DataFrame(forest_12.feature_importances_, index = Xtrain.columns, columns=['importance']).sort_values('importance', ascending=False)\n",
    "print(forest_12_importances)"
   ]
  },
  {
   "cell_type": "code",
   "execution_count": 92,
   "metadata": {},
   "outputs": [],
   "source": [
    "normalized_df['Flow Duration'] = original_normalized_df['Flow Duration']"
   ]
  },
  {
   "cell_type": "code",
   "execution_count": 93,
   "metadata": {},
   "outputs": [
    {
     "name": "stdout",
     "output_type": "stream",
     "text": [
      "0.9558071018762598\n"
     ]
    }
   ],
   "source": [
    "forest_13 = RandomForestClassifier(n_estimators=500, criterion='entropy', class_weight='balanced_subsample')\n",
    "y = normalized_df['Label_encoded']\n",
    "X = normalized_df.drop(columns=['Label_encoded'])\n",
    "Xtrain, Xtest, ytrain, ytest = train_test_split(X, y, test_size=0.20, random_state=42)\n",
    "\n",
    "forest_13.fit(Xtrain, ytrain)\n",
    "ypred = forest_13.predict(Xtest)\n",
    "print(accuracy_score(ytest, ypred))"
   ]
  },
  {
   "cell_type": "code",
   "execution_count": 94,
   "metadata": {},
   "outputs": [
    {
     "name": "stdout",
     "output_type": "stream",
     "text": [
      "0.9556298872471922\n"
     ]
    }
   ],
   "source": [
    "forest_14 = RandomForestClassifier(n_estimators=500, criterion='entropy', class_weight='balanced')\n",
    "y = normalized_df['Label_encoded']\n",
    "X = normalized_df.drop(columns=['Label_encoded'])\n",
    "Xtrain, Xtest, ytrain, ytest = train_test_split(X, y, test_size=0.20, random_state=42)\n",
    "\n",
    "forest_14.fit(Xtrain, ytrain)\n",
    "ypred = forest_14.predict(Xtest)\n",
    "print(accuracy_score(ytest, ypred))"
   ]
  },
  {
   "cell_type": "code",
   "execution_count": 95,
   "metadata": {},
   "outputs": [],
   "source": [
    "normalized_df['min_seg_size_forward'] = original_normalized_df['min_seg_size_forward']"
   ]
  },
  {
   "cell_type": "code",
   "execution_count": 96,
   "metadata": {},
   "outputs": [
    {
     "name": "stdout",
     "output_type": "stream",
     "text": [
      "0.957379881709235\n"
     ]
    }
   ],
   "source": [
    "forest_15 = RandomForestClassifier(n_estimators=500, criterion='entropy', class_weight='balanced_subsample')\n",
    "y = normalized_df['Label_encoded']\n",
    "X = normalized_df.drop(columns=['Label_encoded'])\n",
    "Xtrain, Xtest, ytrain, ytest = train_test_split(X, y, test_size=0.20, random_state=42)\n",
    "\n",
    "forest_15.fit(Xtrain, ytrain)\n",
    "ypred = forest_15.predict(Xtest)\n",
    "print(accuracy_score(ytest, ypred))"
   ]
  },
  {
   "cell_type": "code",
   "execution_count": 97,
   "metadata": {},
   "outputs": [],
   "source": [
    "normalized_df['Down/Up Ratio'] = original_normalized_df['Down/Up Ratio']"
   ]
  },
  {
   "cell_type": "code",
   "execution_count": 98,
   "metadata": {},
   "outputs": [
    {
     "name": "stdout",
     "output_type": "stream",
     "text": [
      "0.9955253306160423\n"
     ]
    }
   ],
   "source": [
    "forest_16 = RandomForestClassifier(n_estimators=500, criterion='entropy', class_weight='balanced_subsample')\n",
    "y = normalized_df['Label_encoded']\n",
    "X = normalized_df.drop(columns=['Label_encoded'])\n",
    "Xtrain, Xtest, ytrain, ytest = train_test_split(X, y, test_size=0.20, random_state=42)\n",
    "\n",
    "forest_16.fit(Xtrain, ytrain)\n",
    "ypred = forest_16.predict(Xtest)\n",
    "print(accuracy_score(ytest, ypred))"
   ]
  },
  {
   "cell_type": "code",
   "execution_count": 99,
   "metadata": {},
   "outputs": [
    {
     "name": "stdout",
     "output_type": "stream",
     "text": [
      "                      importance\n",
      "Down/Up Ratio           0.233668\n",
      "Flow IAT Std            0.136431\n",
      "Flow Duration           0.107420\n",
      "Flow IAT Max            0.091477\n",
      "Flow IAT Mean           0.085540\n",
      "min_seg_size_forward    0.081504\n",
      "Active Max              0.040537\n",
      "Active Mean             0.040082\n",
      "Flow Packets/s          0.037987\n",
      "Flow IAT Min            0.036102\n",
      "Active Min              0.032257\n",
      "Idle Min                0.024985\n",
      "Idle Mean               0.021694\n",
      "Idle Max                0.018089\n",
      "Active Std              0.007979\n",
      "Idle Std                0.003559\n",
      "FIN Flag Count          0.000560\n",
      "RST Flag Count          0.000066\n",
      "ECE Flag Count          0.000062\n"
     ]
    }
   ],
   "source": [
    "forest_16_importances = pd.DataFrame(forest_16.feature_importances_, index = Xtrain.columns, columns=['importance']).sort_values('importance', ascending=False)\n",
    "print(forest_16_importances)"
   ]
  },
  {
   "cell_type": "code",
   "execution_count": 100,
   "metadata": {},
   "outputs": [
    {
     "name": "stdout",
     "output_type": "stream",
     "text": [
      "0.9951709013579071\n"
     ]
    }
   ],
   "source": [
    "normalized_df.drop(columns=['min_seg_size_forward'], inplace=True)\n",
    "forest_17 = RandomForestClassifier(n_estimators=500, criterion='entropy', class_weight='balanced_subsample')\n",
    "y = normalized_df['Label_encoded']\n",
    "X = normalized_df.drop(columns=['Label_encoded'])\n",
    "Xtrain, Xtest, ytrain, ytest = train_test_split(X, y, test_size=0.20, random_state=42)\n",
    "\n",
    "forest_17.fit(Xtrain, ytrain)\n",
    "ypred = forest_17.predict(Xtest)\n",
    "print(accuracy_score(ytest, ypred))"
   ]
  },
  {
   "cell_type": "code",
   "execution_count": 101,
   "metadata": {},
   "outputs": [
    {
     "name": "stdout",
     "output_type": "stream",
     "text": [
      "                importance\n",
      "Down/Up Ratio     0.235867\n",
      "Flow IAT Std      0.135806\n",
      "Flow Duration     0.133180\n",
      "Flow IAT Max      0.106946\n",
      "Flow IAT Mean     0.101772\n",
      "Flow IAT Min      0.044749\n",
      "Flow Packets/s    0.042890\n",
      "Active Max        0.040333\n",
      "Active Mean       0.038363\n",
      "Active Min        0.034045\n",
      "Idle Mean         0.027766\n",
      "Idle Min          0.025766\n",
      "Idle Max          0.019592\n",
      "Active Std        0.007794\n",
      "Idle Std          0.004462\n",
      "FIN Flag Count    0.000566\n",
      "RST Flag Count    0.000053\n",
      "ECE Flag Count    0.000051\n"
     ]
    }
   ],
   "source": [
    "forest_17_importances = pd.DataFrame(forest_17.feature_importances_, index = Xtrain.columns, columns=['importance']).sort_values('importance', ascending=False)\n",
    "print(forest_17_importances)"
   ]
  },
  {
   "cell_type": "markdown",
   "metadata": {},
   "source": [
    "## Features\n",
    "Now, with a small feature set, accuracy is back up to > 99%. But how much did the Down/Up Ratio actually predict? What if I take away the Flow features?"
   ]
  },
  {
   "cell_type": "code",
   "execution_count": 102,
   "metadata": {},
   "outputs": [
    {
     "name": "stdout",
     "output_type": "stream",
     "text": [
      "0.9073167489976297\n"
     ]
    }
   ],
   "source": [
    "drop = ['Flow IAT Std', 'Flow Duration', 'Flow IAT Max', 'Flow IAT Mean']\n",
    "normalized_df.drop(columns=drop, inplace=True)\n",
    "forest_18 = RandomForestClassifier(n_estimators=500, criterion='entropy', class_weight='balanced_subsample')\n",
    "y = normalized_df['Label_encoded']\n",
    "X = normalized_df.drop(columns=['Label_encoded'])\n",
    "Xtrain, Xtest, ytrain, ytest = train_test_split(X, y, test_size=0.20, random_state=42)\n",
    "\n",
    "forest_18.fit(Xtrain, ytrain)\n",
    "ypred = forest_18.predict(Xtest)\n",
    "print(accuracy_score(ytest, ypred))"
   ]
  },
  {
   "cell_type": "code",
   "execution_count": 103,
   "metadata": {},
   "outputs": [
    {
     "name": "stdout",
     "output_type": "stream",
     "text": [
      "                importance\n",
      "Down/Up Ratio     0.295077\n",
      "Flow Packets/s    0.254384\n",
      "Flow IAT Min      0.113642\n",
      "Active Max        0.056814\n",
      "Active Mean       0.056230\n",
      "Active Min        0.054323\n",
      "Idle Min          0.053340\n",
      "Idle Mean         0.048392\n",
      "Idle Max          0.041434\n",
      "Active Std        0.015133\n",
      "Idle Std          0.009399\n",
      "FIN Flag Count    0.001554\n",
      "RST Flag Count    0.000139\n",
      "ECE Flag Count    0.000138\n"
     ]
    }
   ],
   "source": [
    "forest_18_importances = pd.DataFrame(forest_18.feature_importances_, index = Xtrain.columns, columns=['importance']).sort_values('importance', ascending=False)\n",
    "print(forest_18_importances)"
   ]
  },
  {
   "cell_type": "code",
   "execution_count": 104,
   "metadata": {},
   "outputs": [
    {
     "name": "stdout",
     "output_type": "stream",
     "text": [
      "0.7486875041534679\n"
     ]
    }
   ],
   "source": [
    "drop = ['Flow Packets/s', 'Flow IAT Min']\n",
    "normalized_df.drop(columns=drop, inplace=True)\n",
    "forest_19 = RandomForestClassifier(n_estimators=500, criterion='entropy', class_weight='balanced_subsample')\n",
    "y = normalized_df['Label_encoded']\n",
    "X = normalized_df.drop(columns=['Label_encoded'])\n",
    "Xtrain, Xtest, ytrain, ytest = train_test_split(X, y, test_size=0.20, random_state=42)\n",
    "\n",
    "forest_19.fit(Xtrain, ytrain)\n",
    "ypred = forest_19.predict(Xtest)\n",
    "print(accuracy_score(ytest, ypred))"
   ]
  },
  {
   "cell_type": "code",
   "execution_count": 105,
   "metadata": {},
   "outputs": [
    {
     "name": "stdout",
     "output_type": "stream",
     "text": [
      "                importance\n",
      "Down/Up Ratio     0.462509\n",
      "Idle Min          0.101301\n",
      "Active Max        0.087238\n",
      "Idle Max          0.080359\n",
      "Idle Mean         0.080332\n",
      "Active Mean       0.080141\n",
      "Active Min        0.069644\n",
      "Active Std        0.020345\n",
      "Idle Std          0.013304\n",
      "FIN Flag Count    0.004570\n",
      "RST Flag Count    0.000132\n",
      "ECE Flag Count    0.000126\n"
     ]
    }
   ],
   "source": [
    "forest_19_importances = pd.DataFrame(forest_19.feature_importances_, index = Xtrain.columns, columns=['importance']).sort_values('importance', ascending=False)\n",
    "print(forest_19_importances)"
   ]
  },
  {
   "cell_type": "code",
   "execution_count": 106,
   "metadata": {},
   "outputs": [
    {
     "name": "stdout",
     "output_type": "stream",
     "text": [
      "0.7079281394679131\n"
     ]
    }
   ],
   "source": [
    "# drop all the columns and isolate Down/Up\n",
    "drop = ['Idle Min', 'Idle Max', 'Idle Mean', 'Active Max', 'Active Min', 'Active Mean', 'Active Std', 'Idle Std', 'FIN Flag Count', 'ECE Flag Count', 'RST Flag Count']\n",
    "normalized_df.drop(columns=drop, inplace=True)\n",
    "forest_20 = RandomForestClassifier(n_estimators=500, criterion='entropy', class_weight='balanced_subsample')\n",
    "y = normalized_df['Label_encoded']\n",
    "X = normalized_df.drop(columns=['Label_encoded'])\n",
    "Xtrain, Xtest, ytrain, ytest = train_test_split(X, y, test_size=0.20, random_state=42)\n",
    "\n",
    "forest_20.fit(Xtrain, ytrain)\n",
    "ypred = forest_20.predict(Xtest)\n",
    "print(accuracy_score(ytest, ypred))"
   ]
  },
  {
   "cell_type": "markdown",
   "metadata": {},
   "source": [
    "## Aiming for Obscure Features\n",
    "Down/Up Ratio might not be obscure enough. However, other identifiers that could suggest TCP won't really be useful."
   ]
  },
  {
   "cell_type": "code",
   "execution_count": 107,
   "metadata": {},
   "outputs": [
    {
     "data": {
      "text/plain": [
       "Index(['Label_encoded', 'Idle Min', 'Idle Max', 'Idle Mean', 'Active Max',\n",
       "       'Active Min', 'Active Mean', 'Active Std', 'Idle Std'],\n",
       "      dtype='object')"
      ]
     },
     "execution_count": 107,
     "metadata": {},
     "output_type": "execute_result"
    }
   ],
   "source": [
    "normalized_df[['Idle Min', 'Idle Max', 'Idle Mean', 'Active Max', 'Active Min', 'Active Mean', 'Active Std', 'Idle Std']] = original_normalized_df[['Idle Min', 'Idle Max', 'Idle Mean', 'Active Max', 'Active Min', 'Active Mean', 'Active Std', 'Idle Std']]\n",
    "normalized_df.drop(columns=['Down/Up Ratio'], inplace=True)\n",
    "normalized_df.columns"
   ]
  },
  {
   "cell_type": "code",
   "execution_count": 108,
   "metadata": {},
   "outputs": [
    {
     "data": {
      "text/plain": [
       "Index(['Label_encoded', 'Idle Min', 'Idle Max', 'Idle Mean', 'Active Max',\n",
       "       'Active Min', 'Active Mean', 'Active Std', 'Idle Std'],\n",
       "      dtype='object')"
      ]
     },
     "execution_count": 108,
     "metadata": {},
     "output_type": "execute_result"
    }
   ],
   "source": [
    "normalized_df.columns"
   ]
  },
  {
   "cell_type": "code",
   "execution_count": 109,
   "metadata": {},
   "outputs": [
    {
     "data": {
      "text/plain": [
       "Index(['Label_encoded', 'Idle Min', 'Idle Max', 'Idle Mean', 'Active Max',\n",
       "       'Active Min', 'Active Mean', 'Active Std', 'Idle Std', 'Flow IAT Std',\n",
       "       'Flow Duration', 'Flow IAT Max', 'Flow IAT Mean', 'Flow Packets/s',\n",
       "       'Flow IAT Min'],\n",
       "      dtype='object')"
      ]
     },
     "execution_count": 109,
     "metadata": {},
     "output_type": "execute_result"
    }
   ],
   "source": [
    "#drop = ['Flow Packets/s', 'Flow IAT Min']\n",
    "#['Flow IAT Std', 'Flow Duration', 'Flow IAT Max', 'Flow IAT Mean']\n",
    "normalized_df[['Flow IAT Std', 'Flow Duration', 'Flow IAT Max', 'Flow IAT Mean', 'Flow Packets/s', 'Flow IAT Min']] = original_normalized_df[['Flow IAT Std', 'Flow Duration', 'Flow IAT Max', 'Flow IAT Mean', 'Flow Packets/s', 'Flow IAT Min']]\n",
    "normalized_df.columns"
   ]
  },
  {
   "cell_type": "code",
   "execution_count": 110,
   "metadata": {},
   "outputs": [
    {
     "data": {
      "text/plain": [
       "Index(['Flow Duration', 'Total Fwd Packets', 'Total Backward Packets',\n",
       "       'Total Length of Fwd Packets', 'Total Length of Bwd Packets',\n",
       "       'Fwd Packet Length Max', 'Fwd Packet Length Min',\n",
       "       'Fwd Packet Length Mean', 'Fwd Packet Length Std',\n",
       "       'Bwd Packet Length Max', 'Bwd Packet Length Min',\n",
       "       'Bwd Packet Length Mean', 'Bwd Packet Length Std', 'Flow Bytes/s',\n",
       "       'Flow Packets/s', 'Flow IAT Mean', 'Flow IAT Std', 'Flow IAT Max',\n",
       "       'Flow IAT Min', 'Fwd IAT Total', 'Fwd IAT Mean', 'Fwd IAT Std',\n",
       "       'Fwd IAT Max', 'Fwd IAT Min', 'Bwd IAT Total', 'Bwd IAT Mean',\n",
       "       'Bwd IAT Std', 'Bwd IAT Max', 'Bwd IAT Min', 'Fwd PSH Flags',\n",
       "       'Bwd PSH Flags', 'Fwd URG Flags', 'Bwd URG Flags', 'Fwd Header Length',\n",
       "       'Bwd Header Length', 'Fwd Packets/s', 'Bwd Packets/s',\n",
       "       'Min Packet Length', 'Max Packet Length', 'Packet Length Mean',\n",
       "       'Packet Length Std', 'Packet Length Variance', 'FIN Flag Count',\n",
       "       'SYN Flag Count', 'RST Flag Count', 'PSH Flag Count', 'ACK Flag Count',\n",
       "       'URG Flag Count', 'CWE Flag Count', 'ECE Flag Count', 'Down/Up Ratio',\n",
       "       'Average Packet Size', 'Avg Fwd Segment Size', 'Avg Bwd Segment Size',\n",
       "       'Fwd Header Length.1', 'Fwd Avg Bytes/Bulk', 'Fwd Avg Packets/Bulk',\n",
       "       'Fwd Avg Bulk Rate', 'Bwd Avg Bytes/Bulk', 'Bwd Avg Packets/Bulk',\n",
       "       'Bwd Avg Bulk Rate', 'Subflow Fwd Packets', 'Subflow Fwd Bytes',\n",
       "       'Subflow Bwd Packets', 'Subflow Bwd Bytes', 'Init_Win_bytes_forward',\n",
       "       'Init_Win_bytes_backward', 'act_data_pkt_fwd', 'min_seg_size_forward',\n",
       "       'Active Mean', 'Active Std', 'Active Max', 'Active Min', 'Idle Mean',\n",
       "       'Idle Std', 'Idle Max', 'Idle Min', 'Label_encoded'],\n",
       "      dtype='object')"
      ]
     },
     "execution_count": 110,
     "metadata": {},
     "output_type": "execute_result"
    }
   ],
   "source": [
    "original_normalized_df.columns"
   ]
  },
  {
   "cell_type": "code",
   "execution_count": 111,
   "metadata": {},
   "outputs": [
    {
     "name": "stdout",
     "output_type": "stream",
     "text": [
      "0.9699621203730368\n"
     ]
    }
   ],
   "source": [
    "normalized_df['Packet Length Variance'] = original_normalized_df['Packet Length Variance']\n",
    "forest_21 = RandomForestClassifier(n_estimators=500, criterion='entropy', class_weight='balanced_subsample')\n",
    "y = normalized_df['Label_encoded']\n",
    "X = normalized_df.drop(columns=['Label_encoded'])\n",
    "Xtrain, Xtest, ytrain, ytest = train_test_split(X, y, test_size=0.20, random_state=42)\n",
    "\n",
    "forest_21.fit(Xtrain, ytrain)\n",
    "ypred = forest_21.predict(Xtest)\n",
    "print(accuracy_score(ytest, ypred))"
   ]
  },
  {
   "cell_type": "code",
   "execution_count": 112,
   "metadata": {},
   "outputs": [
    {
     "name": "stdout",
     "output_type": "stream",
     "text": [
      "                        importance\n",
      "Packet Length Variance    0.234888\n",
      "Flow IAT Std              0.134929\n",
      "Flow IAT Mean             0.106224\n",
      "Flow Duration             0.101812\n",
      "Flow IAT Max              0.093765\n",
      "Active Max                0.060288\n",
      "Active Mean               0.057265\n",
      "Active Min                0.055617\n",
      "Flow Packets/s            0.034764\n",
      "Idle Min                  0.028922\n",
      "Idle Mean                 0.028569\n",
      "Flow IAT Min              0.028507\n",
      "Idle Max                  0.022595\n",
      "Idle Std                  0.006590\n",
      "Active Std                0.005263\n"
     ]
    }
   ],
   "source": [
    "forest_21_importances = pd.DataFrame(forest_21.feature_importances_, index = Xtrain.columns, columns=['importance']).sort_values('importance', ascending=False)\n",
    "print(forest_21_importances)"
   ]
  },
  {
   "cell_type": "code",
   "execution_count": 113,
   "metadata": {},
   "outputs": [
    {
     "name": "stdout",
     "output_type": "stream",
     "text": [
      "0.9658861839044813\n"
     ]
    }
   ],
   "source": [
    "normalized_df.drop(columns=['Packet Length Variance'], inplace=True)\n",
    "normalized_df['Flow Bytes/s'] = original_normalized_df['Flow Bytes/s']\n",
    "forest_22 = RandomForestClassifier(n_estimators=500, criterion='entropy', class_weight='balanced_subsample')\n",
    "y = normalized_df['Label_encoded']\n",
    "X = normalized_df.drop(columns=['Label_encoded'])\n",
    "Xtrain, Xtest, ytrain, ytest = train_test_split(X, y, test_size=0.20, random_state=42)\n",
    "\n",
    "forest_22.fit(Xtrain, ytrain)\n",
    "ypred = forest_22.predict(Xtest)\n",
    "print(accuracy_score(ytest, ypred))"
   ]
  },
  {
   "cell_type": "code",
   "execution_count": 114,
   "metadata": {},
   "outputs": [
    {
     "name": "stdout",
     "output_type": "stream",
     "text": [
      "                importance\n",
      "Flow IAT Std      0.158564\n",
      "Flow Duration     0.124000\n",
      "Flow IAT Mean     0.122757\n",
      "Flow Bytes/s      0.107640\n",
      "Flow IAT Max      0.105588\n",
      "Active Max        0.062974\n",
      "Active Mean       0.060270\n",
      "Active Min        0.058425\n",
      "Flow Packets/s    0.044755\n",
      "Flow IAT Min      0.042357\n",
      "Idle Min          0.038621\n",
      "Idle Mean         0.036854\n",
      "Idle Max          0.026147\n",
      "Active Std        0.007128\n",
      "Idle Std          0.003920\n"
     ]
    }
   ],
   "source": [
    "forest_22_importances = pd.DataFrame(forest_22.feature_importances_, index = Xtrain.columns, columns=['importance']).sort_values('importance', ascending=False)\n",
    "print(forest_22_importances)"
   ]
  },
  {
   "cell_type": "markdown",
   "metadata": {},
   "source": [
    "## Found the Sweetspot\n",
    "* Flow IAT Std     \n",
    "* Flow Duration    \n",
    "* Flow IAT Mean     \n",
    "* Flow IAT Max      \n",
    "* Flow Bytes/s      \n",
    "* Active Mean       \n",
    "* Active Max        \n",
    "* Active Min       \n",
    "* Flow IAT Min      \n",
    "* Idle Min          \n",
    "* Flow Packets/s    \n",
    "* Idle Mean         \n",
    "* Idle Max         \n",
    "* Active Std        \n",
    "* Idle Std"
   ]
  },
  {
   "cell_type": "code",
   "execution_count": 115,
   "metadata": {},
   "outputs": [
    {
     "data": {
      "text/plain": [
       "16"
      ]
     },
     "execution_count": 115,
     "metadata": {},
     "output_type": "execute_result"
    }
   ],
   "source": [
    "len(normalized_df.columns)"
   ]
  },
  {
   "cell_type": "markdown",
   "metadata": {},
   "source": [
    "16 columns gets a 97% accuracy"
   ]
  },
  {
   "cell_type": "code",
   "execution_count": 116,
   "metadata": {},
   "outputs": [
    {
     "data": {
      "text/plain": [
       "Text(0.5, 1.0, 'Random Forest Classifier')"
      ]
     },
     "execution_count": 116,
     "metadata": {},
     "output_type": "execute_result"
    },
    {
     "data": {
      "image/png": "[encoded data removed]",
      "text/plain": [
       "<Figure size 640x480 with 2 Axes>"
      ]
     },
     "metadata": {},
     "output_type": "display_data"
    }
   ],
   "source": [
    "matrix = confusion_matrix(ytest, ypred)\n",
    "cm = ConfusionMatrixDisplay(confusion_matrix=matrix, display_labels=['Benign', 'DDoS'])\n",
    "cm.plot()\n",
    "plt.title(label='Random Forest Classifier')"
   ]
  },
  {
   "cell_type": "code",
   "execution_count": 117,
   "metadata": {},
   "outputs": [
    {
     "name": "stdout",
     "output_type": "stream",
     "text": [
      "Recall: 99.02425750272118\n",
      "Precision: 95.18346909797474\n",
      "F1 Score: 97.06588423579619\n",
      "Accuracy: 0.9658861839044813\n"
     ]
    }
   ],
   "source": [
    "tn, fp, fn, tp = matrix.ravel()\n",
    "\n",
    "recall = tp/(tp + fn) * 100\n",
    "precision = tp/(tp+fp) * 100\n",
    "f1_score = 2 * ((precision * recall) / (precision + recall))\n",
    "accuracy = accuracy_score(ytest, ypred)\n",
    "print(f'Recall: {recall}')\n",
    "print(f'Precision: {precision}')\n",
    "print(f'F1 Score: {f1_score}')\n",
    "print(f'Accuracy: {accuracy}')"
   ]
  },
  {
   "cell_type": "code",
   "execution_count": 118,
   "metadata": {},
   "outputs": [
    {
     "name": "stdout",
     "output_type": "stream",
     "text": [
      "0.9569368451365661\n"
     ]
    }
   ],
   "source": [
    "#gb_clf8 = GradientBoostingClassifier(n_estimators=500, learning_rate=0.7, subsample=0.5) #log_loss is the default loss function\n",
    "#Xtrain, Xtest, ytrain, ytest = train_test_split(X, y, test_size=0.20, random_state=42)\n",
    "\n",
    "#gb_clf8.fit(Xtrain, ytrain)\n",
    "#ypred = gb_clf8.predict(Xtest)\n",
    "#print(accuracy_score(ytest, ypred))\n",
    "\n",
    "gb_clf9 = GradientBoostingClassifier(n_estimators=500, learning_rate=0.3, subsample=1)\n",
    "y = normalized_df['Label_encoded']\n",
    "X = normalized_df.drop(columns=['Label_encoded'])\n",
    "Xtrain, Xtest, ytrain, ytest = train_test_split(X, y, test_size=0.20, random_state=42)\n",
    "\n",
    "gb_clf9.fit(Xtrain, ytrain)\n",
    "ypred = gb_clf9.predict(Xtest)\n",
    "print(accuracy_score(ytest, ypred))"
   ]
  },
  {
   "cell_type": "code",
   "execution_count": 119,
   "metadata": {},
   "outputs": [
    {
     "data": {
      "text/plain": [
       "Text(0.5, 1.0, 'Random Forest Classifier')"
      ]
     },
     "execution_count": 119,
     "metadata": {},
     "output_type": "execute_result"
    },
    {
     "data": {
      "image/png": "[encoded data removed]",
      "text/plain": [
       "<Figure size 640x480 with 2 Axes>"
      ]
     },
     "metadata": {},
     "output_type": "display_data"
    }
   ],
   "source": [
    "matrix = confusion_matrix(ytest, ypred)\n",
    "cm = ConfusionMatrixDisplay(confusion_matrix=matrix, display_labels=['Benign', 'DDoS'])\n",
    "cm.plot()\n",
    "plt.title(label='Random Forest Classifier')"
   ]
  },
  {
   "cell_type": "code",
   "execution_count": 120,
   "metadata": {},
   "outputs": [
    {
     "name": "stdout",
     "output_type": "stream",
     "text": [
      "Fitting 5 folds for each of 18 candidates, totalling 90 fits\n",
      "Best parameters: {'learning_rate': 0.3, 'n_estimators': 750, 'subsample': 0.75}\n",
      "Best recall score: 0.9825612672856445\n"
     ]
    }
   ],
   "source": [
    "from sklearn.model_selection import GridSearchCV\n",
    "\n",
    "gb = GradientBoostingClassifier()\n",
    "gb_params = {\n",
    "    'n_estimators': [500, 750],\n",
    "    'learning_rate': [0.05, 0.1, 0.3],\n",
    "    'subsample': [0.5, 0.75, 1.0],\n",
    "}\n",
    "\n",
    "grid_search = GridSearchCV(estimator=gb, param_grid=gb_params, cv=5, scoring='recall', n_jobs=-1, verbose=3)\n",
    "grid_search.fit(Xtrain, ytrain)\n",
    "print(\"Best parameters:\", grid_search.best_params_)\n",
    "print(\"Best recall score:\", grid_search.best_score_)"
   ]
  }
 ],
 "metadata": {
  "kernelspec": {
   "display_name": "base",
   "language": "python",
   "name": "python3"
  },
  "language_info": {
   "codemirror_mode": {
    "name": "ipython",
    "version": 3
   },
   "file_extension": ".py",
   "mimetype": "text/x-python",
   "name": "python",
   "nbconvert_exporter": "python",
   "pygments_lexer": "ipython3",
   "version": "3.11.5"
  }
 },
 "nbformat": 4,
 "nbformat_minor": 2
}
